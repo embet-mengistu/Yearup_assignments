{
  "cells": [
    {
      "cell_type": "markdown",
      "id": "479a287c-657e-4912-95ec-702d83aca53e",
      "metadata": {
        "id": "479a287c-657e-4912-95ec-702d83aca53e"
      },
      "source": [
        "# Week 1 / Session 2\n",
        "## Welcome!\n",
        "\n",
        "Today we're going to dig deeper into the process or programming, or coding. We're going to learn about _conditionals_, which is the way we make our code ask questions, and performs tasks based on the answers to those questions.\n",
        "## Agenda\n",
        "1. **Review of Previous Session/Homework** (15 minutes): Be sure we all understand what was covered in the last session before moving forward\n",
        "2. **Variables** (15 minutes): We will learn what a variable is, how to name them, and how to use them\n",
        "3. **Boolean variables/Boolean expressions** (10-15 minutes): We will learn about expressions and variables which are not numbers or strings, but rather, True or False\n",
        "4. **Conditional/\"if\" Statements** (45 minutes): We will learn how to ask yes/no questions in our code, and run different code based on the answers we get"
      ]
    },
    {
      "cell_type": "markdown",
      "id": "416931a9-ecc3-4dc8-a5c1-6cab6b769f52",
      "metadata": {
        "id": "416931a9-ecc3-4dc8-a5c1-6cab6b769f52"
      },
      "source": [
        "# Review"
      ]
    },
    {
      "cell_type": "markdown",
      "id": "0be892e7-2acf-4e01-a27d-98f96199db29",
      "metadata": {
        "id": "0be892e7-2acf-4e01-a27d-98f96199db29"
      },
      "source": [
        "Let's review key concepts from Session 1 before moving on...\n",
        "\n",
        "**Key Topics from Session 1:**\n",
        "- Algorithms\n",
        "- Numeric operators\n",
        "- Functions\n",
        "- Basic data types\n",
        "  \n",
        "### Quick Review Questions:\n",
        "1. What's an algorithm?\n",
        "2. What are Python's numeric operators?\n",
        "3. What are built-in functions, and which ones have we seen so far?\n",
        "4. What are the basic data types in Python? (We'll learn one more today...)"
      ]
    },
    {
      "cell_type": "markdown",
      "id": "cff7333f-0c8f-4386-9c48-109c3a3d8331",
      "metadata": {
        "id": "cff7333f-0c8f-4386-9c48-109c3a3d8331"
      },
      "source": [
        "# Variables\n",
        "* Named \"boxes\" inside the computer's memory into which you can put values (data)\n",
        "* We can put a value into a variable by using an _assignment statement_, e.g.,\n",
        "  * __`year = 2025`__\n",
        "  * __`name = 'Grace Hopper'`__\n",
        "* An assignment statement is not a statement of equality (like we're used to from mathematics)\n",
        "  * Instead, it's a directive to Python to put whatever _value_ is on the right-hand side of the __`=`__ into the variable on the left hand side"
      ]
    },
    {
      "cell_type": "code",
      "execution_count": 35,
      "id": "8081d570-1ecc-4892-ab40-5b6517b7a3b6",
      "metadata": {
        "id": "8081d570-1ecc-4892-ab40-5b6517b7a3b6",
        "outputId": "35026a15-1e95-4a30-9350-fa493f9124e1",
        "colab": {
          "base_uri": "https://localhost:8080/"
        }
      },
      "outputs": [
        {
          "output_type": "execute_result",
          "data": {
            "text/plain": [
              "2025"
            ]
          },
          "metadata": {},
          "execution_count": 35
        }
      ],
      "source": [
        "year = 2025\n",
        "year"
      ]
    },
    {
      "cell_type": "code",
      "execution_count": 36,
      "id": "f627830b-12b2-43bd-a247-201c578f3f49",
      "metadata": {
        "id": "f627830b-12b2-43bd-a247-201c578f3f49",
        "outputId": "cd296b60-dec8-43b2-c72e-f443c856b391",
        "colab": {
          "base_uri": "https://localhost:8080/",
          "height": 35
        }
      },
      "outputs": [
        {
          "output_type": "execute_result",
          "data": {
            "text/plain": [
              "'Grace Hopper'"
            ],
            "application/vnd.google.colaboratory.intrinsic+json": {
              "type": "string"
            }
          },
          "metadata": {},
          "execution_count": 36
        }
      ],
      "source": [
        "name = 'Grace Hopper'\n",
        "name"
      ]
    },
    {
      "cell_type": "markdown",
      "id": "8a282c34-bb87-4d6a-8969-8fe31918aae9",
      "metadata": {
        "id": "8a282c34-bb87-4d6a-8969-8fe31918aae9"
      },
      "source": [
        "### Some thoughts about variable names...\n",
        "* They may be arbitrarily long\n",
        "* They may contain both letters and numbers, but must begin with a letter\n",
        "* Uppercase letters are allowed, but by convention we don’t use them (Python is _case sensitive_–in other words __`counter`__ and __`Counter`__ are different variables)\n",
        "* You should choose meaningful names for your variables:\n",
        "  * __`counter`__ instead of __`c`__\n",
        "  * __`cost_per_ounce`__ instead of __`cpo`__\n",
        "  * __`first_name`__ instead of __`fn`__ or even __`fname`__\n",
        "* As you can see above, variable names can include underscores–use them to make your variable names clearer\n",
        "  * ...but do not start a variable name with an underscore"
      ]
    },
    {
      "cell_type": "markdown",
      "id": "fd2e118d-a475-4b9b-b7b5-20da2369cdbe",
      "metadata": {
        "id": "fd2e118d-a475-4b9b-b7b5-20da2369cdbe"
      },
      "source": [
        "## Exercise: Variables\n",
        "Using an assignment statement, create a variable called __`first_name`__ and set it equal to a name of your choosing"
      ]
    },
    {
      "cell_type": "code",
      "execution_count": 38,
      "id": "eb1bd501-1432-4e3b-81ac-e05bfe1d7f52",
      "metadata": {
        "id": "eb1bd501-1432-4e3b-81ac-e05bfe1d7f52",
        "outputId": "14482e52-869f-4392-e1a6-24efeedb762a",
        "colab": {
          "base_uri": "https://localhost:8080/",
          "height": 35
        }
      },
      "outputs": [
        {
          "output_type": "execute_result",
          "data": {
            "text/plain": [
              "'Gigi'"
            ],
            "application/vnd.google.colaboratory.intrinsic+json": {
              "type": "string"
            }
          },
          "metadata": {},
          "execution_count": 38
        }
      ],
      "source": [
        "first_name=\"Gigi\"\n",
        "first_name"
      ]
    },
    {
      "cell_type": "markdown",
      "id": "c8604f79-4f7e-454d-91cd-c0dc1b4d2fda",
      "metadata": {
        "id": "c8604f79-4f7e-454d-91cd-c0dc1b4d2fda"
      },
      "source": [
        "Using an assignment statement, create a variable called __`house_number`__ and set it equal to the house number of your street address–will this be an __`int`__ or a __`float`__?)"
      ]
    },
    {
      "cell_type": "code",
      "execution_count": 39,
      "id": "f7a3535f-2d60-4d50-9e78-b7a96680b070",
      "metadata": {
        "id": "f7a3535f-2d60-4d50-9e78-b7a96680b070",
        "outputId": "930a6a79-1555-4950-ea8a-447c9448673a",
        "colab": {
          "base_uri": "https://localhost:8080/",
          "height": 35
        }
      },
      "outputs": [
        {
          "output_type": "execute_result",
          "data": {
            "text/plain": [
              "'123e'"
            ],
            "application/vnd.google.colaboratory.intrinsic+json": {
              "type": "string"
            }
          },
          "metadata": {},
          "execution_count": 39
        }
      ],
      "source": [
        "house_number=\"123e\"\n",
        "house_number"
      ]
    },
    {
      "cell_type": "markdown",
      "id": "2b8b0815-6ad0-460b-9101-90643fd76905",
      "metadata": {
        "id": "2b8b0815-6ad0-460b-9101-90643fd76905"
      },
      "source": [
        "Imagine you want to store a phone number\n",
        "  * Choose an appropriate variable name, and, using an assignment statement, set your variable equal to a phone number of your choosing"
      ]
    },
    {
      "cell_type": "code",
      "execution_count": 41,
      "id": "8bf7a5b4-31c7-42bb-aadc-5beb82800f08",
      "metadata": {
        "id": "8bf7a5b4-31c7-42bb-aadc-5beb82800f08",
        "outputId": "617b1c94-b04c-4882-a222-3bc0451e955f",
        "colab": {
          "base_uri": "https://localhost:8080/",
          "height": 35
        }
      },
      "outputs": [
        {
          "output_type": "execute_result",
          "data": {
            "text/plain": [
              "'244 202-34'"
            ],
            "application/vnd.google.colaboratory.intrinsic+json": {
              "type": "string"
            }
          },
          "metadata": {},
          "execution_count": 41
        }
      ],
      "source": [
        "phone_number=\"244 202-34\"\n",
        "phone_number"
      ]
    },
    {
      "cell_type": "markdown",
      "id": "14257e59-fd94-430f-86d7-9f90e91cfb3c",
      "metadata": {
        "id": "14257e59-fd94-430f-86d7-9f90e91cfb3c"
      },
      "source": [
        "## Careful!\n",
        "* It's important to understand the difference between\n",
        "  * _evaluating an expression_ ... and ...\n",
        "  * _printing a value_"
      ]
    },
    {
      "cell_type": "code",
      "execution_count": 42,
      "id": "92909b52-1d6d-4a1b-a699-e5c4d4614f5e",
      "metadata": {
        "id": "92909b52-1d6d-4a1b-a699-e5c4d4614f5e"
      },
      "outputs": [],
      "source": [
        "# First, let's remember that an assignment statement tells Python to DO something\n",
        "# ...but nothing is printed\n",
        "name = 'Margaret Hamilton'"
      ]
    },
    {
      "cell_type": "code",
      "execution_count": 43,
      "id": "0854d75c-d681-4b5f-96b7-b5497910eede",
      "metadata": {
        "id": "0854d75c-d681-4b5f-96b7-b5497910eede",
        "outputId": "fa21172e-5cb2-41c1-c076-7f165871621e",
        "colab": {
          "base_uri": "https://localhost:8080/",
          "height": 35
        }
      },
      "outputs": [
        {
          "output_type": "execute_result",
          "data": {
            "text/plain": [
              "'Margaret Hamilton'"
            ],
            "application/vnd.google.colaboratory.intrinsic+json": {
              "type": "string"
            }
          },
          "metadata": {},
          "execution_count": 43
        }
      ],
      "source": [
        "name # ask Python to evaluate this \"expression\", i.e.,\n",
        "     # ... \"Hey Python show me the value inside this variable\""
      ]
    },
    {
      "cell_type": "markdown",
      "id": "4d3178ed-0e96-400b-bb22-b00bdaadcfbe",
      "metadata": {
        "id": "4d3178ed-0e96-400b-bb22-b00bdaadcfbe"
      },
      "source": [
        "* When the interpreter displays the value of an expression, it uses the same format you would use to enter its value–so in the case of strings, that means that it includes the quotes\n",
        "* But when you call the __`print()`__ function, Python displays the contents of the string without the quotes..."
      ]
    },
    {
      "cell_type": "code",
      "execution_count": 44,
      "id": "70f1071b-a248-4641-8e43-1f301310bab5",
      "metadata": {
        "id": "70f1071b-a248-4641-8e43-1f301310bab5",
        "outputId": "7cfc8c7c-c93a-4e5e-cdf2-caf68bb5afa6",
        "colab": {
          "base_uri": "https://localhost:8080/"
        }
      },
      "outputs": [
        {
          "output_type": "stream",
          "name": "stdout",
          "text": [
            "Hello, my name is Margaret Hamilton\n"
          ]
        }
      ],
      "source": [
        "print('Hello, my name is', name) # would the quotes make sense here?"
      ]
    },
    {
      "cell_type": "markdown",
      "id": "2bfaf031-13fa-4443-8ad5-7c61c4d7678f",
      "metadata": {
        "id": "2bfaf031-13fa-4443-8ad5-7c61c4d7678f"
      },
      "source": [
        "## Boolean variables\n",
        "* We've learned about about __`int`__, __`float`__, and __`str`__ data types\n",
        "* Boolean variables (__`bool`__) are the final basic data type in Python\n",
        "  * name after British mathematician [George Boole](https://en.wikipedia.org/wiki/George_Boole)\n",
        "* A Boolean variable can have one of two values–__`True`__ or __`False`__\n",
        "  * you can think of __`True`__ as __yes__ or __on__\n",
        "  * ...and __`False`__ is analogous to __no__ or __off__\n",
        "* At this point it might seem strange to have a variable which can only contain __`True`__ or __`False`__, so in order to help us understand these kind of variables, we're first going to introduce the idea of a __Boolean expression__...\n",
        "  * It's an expression that can only be __`True`__ or __`False`__\n",
        "  * Think of it as an __answer__ to a __yes or no__ question\n",
        "  * Let's try it...as usual, do not run a cell until you have thought about what you epxect the out of the cell to be"
      ]
    },
    {
      "cell_type": "code",
      "execution_count": 45,
      "id": "f6f3173f-38fc-455f-93b1-2fb7d61dbc7f",
      "metadata": {
        "id": "f6f3173f-38fc-455f-93b1-2fb7d61dbc7f",
        "outputId": "a8dccb6d-f077-4158-9223-af15db3d2f4f",
        "colab": {
          "base_uri": "https://localhost:8080/"
        }
      },
      "outputs": [
        {
          "output_type": "execute_result",
          "data": {
            "text/plain": [
              "True"
            ]
          },
          "metadata": {},
          "execution_count": 45
        }
      ],
      "source": [
        "4 > 3 # is this True or False?"
      ]
    },
    {
      "cell_type": "code",
      "execution_count": 46,
      "id": "0e3a6405-a554-4542-b87f-9eca9cd22d8c",
      "metadata": {
        "id": "0e3a6405-a554-4542-b87f-9eca9cd22d8c",
        "outputId": "e1ac3e44-42ee-4edb-8163-dd0337376e74",
        "colab": {
          "base_uri": "https://localhost:8080/"
        }
      },
      "outputs": [
        {
          "output_type": "execute_result",
          "data": {
            "text/plain": [
              "False"
            ]
          },
          "metadata": {},
          "execution_count": 46
        }
      ],
      "source": [
        "# the == operator is used to compare objects\n",
        "# i.e., are the objects on either side of the == the same?\n",
        "'Tailor' == 'tailor'"
      ]
    },
    {
      "cell_type": "code",
      "execution_count": 47,
      "id": "eaced649-79c7-461a-a5b0-d52d56a31ec3",
      "metadata": {
        "id": "eaced649-79c7-461a-a5b0-d52d56a31ec3",
        "outputId": "8009bbfd-113e-4462-b1fa-05d21c49a951",
        "colab": {
          "base_uri": "https://localhost:8080/"
        }
      },
      "outputs": [
        {
          "output_type": "execute_result",
          "data": {
            "text/plain": [
              "True"
            ]
          },
          "metadata": {},
          "execution_count": 47
        }
      ],
      "source": [
        "3 * 9 == 27 # True or False?"
      ]
    },
    {
      "cell_type": "markdown",
      "id": "b6d42ba0-df2a-4e67-8b50-7c69105c3fdb",
      "metadata": {
        "id": "b6d42ba0-df2a-4e67-8b50-7c69105c3fdb"
      },
      "source": [
        "* Let's try some Boolean expressions with variables in the mix..."
      ]
    },
    {
      "cell_type": "code",
      "execution_count": 48,
      "id": "6f923619-3413-435b-8b21-90a1e6206347",
      "metadata": {
        "id": "6f923619-3413-435b-8b21-90a1e6206347",
        "outputId": "d1e33b1d-2ba0-4e3f-d140-dd280bea6407",
        "colab": {
          "base_uri": "https://localhost:8080/"
        }
      },
      "outputs": [
        {
          "output_type": "execute_result",
          "data": {
            "text/plain": [
              "True"
            ]
          },
          "metadata": {},
          "execution_count": 48
        }
      ],
      "source": [
        "name == 'Margaret Hamilton'"
      ]
    },
    {
      "cell_type": "code",
      "execution_count": 49,
      "id": "283c367a-6e28-4583-b356-cbc50b5c19de",
      "metadata": {
        "id": "283c367a-6e28-4583-b356-cbc50b5c19de",
        "outputId": "d364b36f-f008-4e17-87b8-1dc5fabe70e0",
        "colab": {
          "base_uri": "https://localhost:8080/"
        }
      },
      "outputs": [
        {
          "output_type": "execute_result",
          "data": {
            "text/plain": [
              "True"
            ]
          },
          "metadata": {},
          "execution_count": 49
        }
      ],
      "source": [
        "year > 2000 # 21st century? True or False?"
      ]
    },
    {
      "cell_type": "code",
      "execution_count": 50,
      "id": "726e9530-5ce9-4e90-aa43-d11718836c8e",
      "metadata": {
        "id": "726e9530-5ce9-4e90-aa43-d11718836c8e",
        "outputId": "dae5185c-a982-43c3-b46a-70ac577d1322",
        "colab": {
          "base_uri": "https://localhost:8080/"
        }
      },
      "outputs": [
        {
          "output_type": "execute_result",
          "data": {
            "text/plain": [
              "False"
            ]
          },
          "metadata": {},
          "execution_count": 50
        }
      ],
      "source": [
        "year % 4 == 0 # what question are we asking here, and what's the answer?"
      ]
    },
    {
      "cell_type": "markdown",
      "id": "4fce2eb9-8fc6-4382-a22f-2a97530984d7",
      "metadata": {
        "id": "4fce2eb9-8fc6-4382-a22f-2a97530984d7"
      },
      "source": [
        "* And now let's put it all together..."
      ]
    },
    {
      "cell_type": "code",
      "execution_count": 51,
      "id": "37809174-6e41-43ef-81cf-3329ac84c0f1",
      "metadata": {
        "id": "37809174-6e41-43ef-81cf-3329ac84c0f1",
        "outputId": "f3f428b8-9987-431c-c51a-b914cac2f494",
        "colab": {
          "base_uri": "https://localhost:8080/"
        }
      },
      "outputs": [
        {
          "output_type": "execute_result",
          "data": {
            "text/plain": [
              "True"
            ]
          },
          "metadata": {},
          "execution_count": 51
        }
      ],
      "source": [
        "# len is a built-in function...what would you imagine it does?\n",
        "long_name = len(name) > 15\n",
        "long_name"
      ]
    },
    {
      "cell_type": "code",
      "execution_count": 52,
      "id": "a8269572-15ec-4400-aef8-54760f1001dd",
      "metadata": {
        "id": "a8269572-15ec-4400-aef8-54760f1001dd",
        "outputId": "3b27de63-e219-4c7c-ec2d-b6a469250b42",
        "colab": {
          "base_uri": "https://localhost:8080/"
        }
      },
      "outputs": [
        {
          "output_type": "execute_result",
          "data": {
            "text/plain": [
              "True"
            ]
          },
          "metadata": {},
          "execution_count": 52
        }
      ],
      "source": [
        "non_leap_year = year % 4 > 0 # or != 0\n",
        "non_leap_year"
      ]
    },
    {
      "cell_type": "code",
      "execution_count": 53,
      "id": "a123f1f2-2653-44f0-9153-2a91a78c6ba2",
      "metadata": {
        "id": "a123f1f2-2653-44f0-9153-2a91a78c6ba2",
        "outputId": "85687002-a428-4dbf-9fa4-658de693bda9",
        "colab": {
          "base_uri": "https://localhost:8080/"
        }
      },
      "outputs": [
        {
          "output_type": "execute_result",
          "data": {
            "text/plain": [
              "True"
            ]
          },
          "metadata": {},
          "execution_count": 53
        }
      ],
      "source": [
        "number = 100\n",
        "# ...\n",
        "is_even = number % 2 == 0\n",
        "is_even"
      ]
    },
    {
      "cell_type": "markdown",
      "id": "0c730f5d-726c-415d-be48-e690141d63df",
      "metadata": {
        "id": "0c730f5d-726c-415d-be48-e690141d63df"
      },
      "source": [
        "# Conditionals (\"if\" statements)\n",
        "* Now that we understand the idea of Boolean expressions, we can use them to ask questions in our code"
      ]
    },
    {
      "cell_type": "code",
      "execution_count": 54,
      "id": "a0acef54-a216-4e4a-9f86-5de3eb6daa2a",
      "metadata": {
        "id": "a0acef54-a216-4e4a-9f86-5de3eb6daa2a"
      },
      "outputs": [],
      "source": [
        "number = 24"
      ]
    },
    {
      "cell_type": "code",
      "execution_count": 55,
      "id": "6f508b61-2fc1-4c04-adf1-96525bcc69f7",
      "metadata": {
        "id": "6f508b61-2fc1-4c04-adf1-96525bcc69f7",
        "outputId": "6fe1db3a-35a6-4baf-c3cb-0e798f5a4d0c",
        "colab": {
          "base_uri": "https://localhost:8080/"
        }
      },
      "outputs": [
        {
          "output_type": "stream",
          "name": "stdout",
          "text": [
            "24 is even\n"
          ]
        }
      ],
      "source": [
        "if number % 2 == 0: # this is called an \"if statement\"\n",
        "    print(number, 'is even')"
      ]
    },
    {
      "cell_type": "code",
      "execution_count": 56,
      "id": "ad82ec65-6235-4be6-8039-3b9988a7f97c",
      "metadata": {
        "id": "ad82ec65-6235-4be6-8039-3b9988a7f97c",
        "outputId": "60c009f3-68b5-45a0-ea46-32e9f6660328",
        "colab": {
          "base_uri": "https://localhost:8080/"
        }
      },
      "outputs": [
        {
          "output_type": "stream",
          "name": "stdout",
          "text": [
            "Two dozen or more\n"
          ]
        }
      ],
      "source": [
        "if number >= 24: # is number greater than or equal to 24?\n",
        "    print('Two dozen or more')"
      ]
    },
    {
      "cell_type": "code",
      "execution_count": 57,
      "id": "3e30b87c-1518-4935-8dbc-8b00c6202d98",
      "metadata": {
        "id": "3e30b87c-1518-4935-8dbc-8b00c6202d98",
        "outputId": "54d6bd4f-b99e-4710-ea8d-e270472cda5f",
        "colab": {
          "base_uri": "https://localhost:8080/"
        }
      },
      "outputs": [
        {
          "output_type": "execute_result",
          "data": {
            "text/plain": [
              "19"
            ]
          },
          "metadata": {},
          "execution_count": 57
        }
      ],
      "source": [
        "if number > 10: # is number greater than 10?\n",
        "    number = number - 5\n",
        "\n",
        "number # what will be printed here?"
      ]
    },
    {
      "cell_type": "markdown",
      "id": "1d57be0e-f981-410d-b270-9850280b15b0",
      "metadata": {
        "id": "1d57be0e-f981-410d-b270-9850280b15b0"
      },
      "source": [
        "#### Note that __`if`__ statements can have an optional else part"
      ]
    },
    {
      "cell_type": "code",
      "execution_count": 58,
      "id": "37af2bae-5ffa-40c8-9392-7798a01a33c3",
      "metadata": {
        "id": "37af2bae-5ffa-40c8-9392-7798a01a33c3",
        "outputId": "0d9dc904-86cc-411d-8a90-9e342695a76e",
        "colab": {
          "base_uri": "https://localhost:8080/"
        }
      },
      "outputs": [
        {
          "output_type": "stream",
          "name": "stdout",
          "text": [
            "19 is odd\n"
          ]
        }
      ],
      "source": [
        "if number % 2 == 0:\n",
        "    print(number, 'is even')\n",
        "else:\n",
        "    print(number, 'is odd')"
      ]
    },
    {
      "cell_type": "markdown",
      "id": "1d6926dc-b254-4663-9b64-f41fc5d3803b",
      "metadata": {
        "id": "1d6926dc-b254-4663-9b64-f41fc5d3803b"
      },
      "source": [
        "#### And they can have one or more \"else if\" parts, which is written __`elif`__ in Python"
      ]
    },
    {
      "cell_type": "code",
      "execution_count": 59,
      "id": "c15dd67e-6a28-4a28-81fb-94679d43199d",
      "metadata": {
        "id": "c15dd67e-6a28-4a28-81fb-94679d43199d",
        "outputId": "7f2ed835-54d6-4ad8-c5d6-6f945da57e13",
        "colab": {
          "base_uri": "https://localhost:8080/"
        }
      },
      "outputs": [
        {
          "output_type": "stream",
          "name": "stdout",
          "text": [
            "19 is positive\n"
          ]
        }
      ],
      "source": [
        "if number > 0: # is number greater than 0?\n",
        "    print(number, 'is positive')\n",
        "elif number < 0: # is number less than 0?\n",
        "    print(number, 'is negative')\n",
        "else:\n",
        "    print('zero')"
      ]
    },
    {
      "cell_type": "code",
      "execution_count": 60,
      "id": "e2adfa17-3e2c-413e-8cf5-cffa4df7474f",
      "metadata": {
        "id": "e2adfa17-3e2c-413e-8cf5-cffa4df7474f",
        "outputId": "8b0b4df8-57d3-4a44-def7-74a23f9f07ff",
        "colab": {
          "base_uri": "https://localhost:8080/"
        }
      },
      "outputs": [
        {
          "output_type": "stream",
          "name": "stdout",
          "text": [
            "The weather is freezing\n"
          ]
        }
      ],
      "source": [
        "temperature = 10\n",
        "\n",
        "if temperature >= 86:\n",
        "    weather = 'hot'\n",
        "elif temperature >= 75:\n",
        "    weather = 'warm'\n",
        "elif temperature >= 50:\n",
        "    weather = 'cool'\n",
        "elif temperature >= 32:\n",
        "    weather = 'cold'\n",
        "else:\n",
        "    weather = 'freezing'\n",
        "\n",
        "print('The weather is', weather)"
      ]
    },
    {
      "cell_type": "markdown",
      "id": "d3b08796-9ea5-4dcd-9e12-5f27e0027bf7",
      "metadata": {
        "id": "d3b08796-9ea5-4dcd-9e12-5f27e0027bf7"
      },
      "source": [
        "## Exercise: if statements\n",
        "Write an if statement to check if the variable __`first_name`__ is equal to a name of your choosing"
      ]
    },
    {
      "cell_type": "code",
      "execution_count": 63,
      "id": "94ec119d-79a9-45e4-904a-279d97f9f345",
      "metadata": {
        "id": "94ec119d-79a9-45e4-904a-279d97f9f345",
        "outputId": "838004c9-5806-457e-aae5-280b94f02343",
        "colab": {
          "base_uri": "https://localhost:8080/"
        }
      },
      "outputs": [
        {
          "output_type": "stream",
          "name": "stdout",
          "text": [
            "True\n"
          ]
        }
      ],
      "source": [
        "if first_name == \"Gigi\":\n",
        "  print(True)"
      ]
    },
    {
      "cell_type": "markdown",
      "id": "fdad50de-a792-4ac2-80ad-0ffacb2e5f84",
      "metadata": {
        "id": "fdad50de-a792-4ac2-80ad-0ffacb2e5f84"
      },
      "source": [
        "Write an if statement to check if the variable __`house_number`__ is equal to the house number of your street address, and if so, print \"my house number\", otherwise, print out \"not my house number\""
      ]
    },
    {
      "cell_type": "code",
      "execution_count": 65,
      "id": "cd22ea6f-31ec-41fd-b912-b424de6ac78a",
      "metadata": {
        "id": "cd22ea6f-31ec-41fd-b912-b424de6ac78a",
        "outputId": "32edd079-5b03-43f8-84ff-d20d609c81c0",
        "colab": {
          "base_uri": "https://localhost:8080/"
        }
      },
      "outputs": [
        {
          "output_type": "stream",
          "name": "stdout",
          "text": [
            "not my house number\n"
          ]
        }
      ],
      "source": [
        "if house_number==\"1233e\":\n",
        "  print(\"my house number\")\n",
        "else:\n",
        "  print(\"not my house number\")"
      ]
    },
    {
      "cell_type": "markdown",
      "id": "37682e95-0800-4b8c-9b1c-ed099ce62931",
      "metadata": {
        "id": "37682e95-0800-4b8c-9b1c-ed099ce62931"
      },
      "source": []
    },
    {
      "cell_type": "markdown",
      "id": "4b009199-c101-4591-b7a4-dbe8f4ef4070",
      "metadata": {
        "id": "4b009199-c101-4591-b7a4-dbe8f4ef4070"
      },
      "source": [
        "Write an if/elif/else to check the value of the variable __`traffic_light`__ and print out\n",
        "  * \"Stop!\" if it's __red__\n",
        "  * \"Slow down!\" if it's __yellow__\n",
        "  * \"Go!\" if it's __green__\n",
        "  * \"invalid light color\" if it's any other color"
      ]
    },
    {
      "cell_type": "code",
      "source": [
        "traffic_light=\"green\"\n",
        "\n",
        "if traffic_light ==\"red\":\n",
        "  print(\"Stop!\")\n",
        "elif traffic_light ==\"yellow\":\n",
        "  print(\"Slow down!\")\n",
        "elif traffic_light ==\"green\":\n",
        "   print(\"Go\")\n",
        "else:\n",
        "  print(\"invalid light color\")"
      ],
      "metadata": {
        "id": "uZwCeyU_fOyP",
        "outputId": "6ee6bdd7-77b1-43d2-c245-1a528c97a2de",
        "colab": {
          "base_uri": "https://localhost:8080/"
        }
      },
      "id": "uZwCeyU_fOyP",
      "execution_count": 69,
      "outputs": [
        {
          "output_type": "stream",
          "name": "stdout",
          "text": [
            "Go\n"
          ]
        }
      ]
    },
    {
      "cell_type": "markdown",
      "id": "95a11e8e-2b81-4282-8fde-0eba5c5ff396",
      "metadata": {
        "id": "95a11e8e-2b81-4282-8fde-0eba5c5ff396"
      },
      "source": [
        "### What happens after we've written our algorithm?\n",
        "* Before we write code, we convert the algorithm to __pseudocode__\n",
        "  * A mix of English and Python constructs\n",
        "  * Should include the structure, i.e., the indentation\n",
        "  * ...but don't worry about the details/quirks of Python (or whatever language)"
      ]
    },
    {
      "cell_type": "markdown",
      "id": "181d949d-d91c-4fe1-bf4a-452f6c4275e1",
      "metadata": {
        "id": "181d949d-d91c-4fe1-bf4a-452f6c4275e1"
      },
      "source": [
        "# What is Coding/Programming? (redux)\n",
        "* In the first session, we said it was...\n",
        "  * Converting a problem you want to solve into code which solves that problem\n",
        "    * or...Turning a __problem statement__ into code which will _solve_ that problem\n",
        "* Now let's talk about how we will actually do it\n",
        "  1. Write an algorithm–this should be understandable by another human (a non-programmer)\n",
        "     * therefore, we will not include any Python-specific language constructs at this stage\n",
        "     * once you have something that a non-programmer could read and perform the task, you're done with this step\n",
        "  2. Convert the algorithm to pseudocode\n",
        "     * think of this should as a \"stepping stone\" to a code solution, but don't need to worry about the details of Python (or other language)\n",
        "     * the goal is to have steps which can be converted, one by one into code\n",
        "  3. Convert each pseudocode step into Python code, and comment each line of code with the step it corresponds to\n",
        "  4. Let's see an example..."
      ]
    },
    {
      "cell_type": "markdown",
      "id": "1b4cf1c0-c392-4158-9ae2-9ed535fe71ab",
      "metadata": {
        "id": "1b4cf1c0-c392-4158-9ae2-9ed535fe71ab"
      },
      "source": [
        "#### Problem: determine if a string has an even or odd number of characters in it\n",
        "#### ALGORITHM (for humans)\n",
        "\n",
        "1. Count the number of letters in the text\n",
        "1. Indicate if that count is even or odd"
      ]
    },
    {
      "cell_type": "code",
      "execution_count": null,
      "id": "aeabdb1a-7f88-4f8d-8848-484dd131dd84",
      "metadata": {
        "id": "aeabdb1a-7f88-4f8d-8848-484dd131dd84"
      },
      "outputs": [],
      "source": [
        "# PSEUDOCODE\n",
        "# notice that AT THIS STAGE, our pseudocode won't be that complex\n",
        "\n",
        "# 1. if the length of the string is even:\n",
        "# 2.    \"even\"\n",
        "# 3. else:\n",
        "# 4.    \"odd\""
      ]
    },
    {
      "cell_type": "markdown",
      "id": "c843feb5-0564-4fa5-9caa-b14843de02e8",
      "metadata": {
        "id": "c843feb5-0564-4fa5-9caa-b14843de02e8"
      },
      "source": [
        "#### But also notice that we didn't stress over the details above, such as\n",
        "* how to compute length of a string\n",
        "* how to determine if a number is even\n",
        "* we did, however, write down the _structure_ of the code"
      ]
    },
    {
      "cell_type": "code",
      "execution_count": 70,
      "id": "081ac091-00b2-4106-b743-3dd762941145",
      "metadata": {
        "id": "081ac091-00b2-4106-b743-3dd762941145"
      },
      "outputs": [],
      "source": [
        "text = 'a_b_c_d_e'"
      ]
    },
    {
      "cell_type": "code",
      "execution_count": 71,
      "id": "cd56f1f8-4f43-4235-be7f-21dbebbff63a",
      "metadata": {
        "id": "cd56f1f8-4f43-4235-be7f-21dbebbff63a",
        "outputId": "5e02c9d9-c554-4636-94d2-e188e6793161",
        "colab": {
          "base_uri": "https://localhost:8080/"
        }
      },
      "outputs": [
        {
          "output_type": "stream",
          "name": "stdout",
          "text": [
            "odd\n"
          ]
        }
      ],
      "source": [
        "if len(text) % 2 == 0: # 1\n",
        "    print('even') # 2\n",
        "else: # 3\n",
        "    print('odd') # 4"
      ]
    },
    {
      "cell_type": "markdown",
      "id": "32d206fb-970e-40cc-8a53-69fcb90646fe",
      "metadata": {
        "id": "32d206fb-970e-40cc-8a53-69fcb90646fe"
      },
      "source": [
        "### Notice that in our translation to code above...\n",
        "* Every line of code corresponds to a step in the pseudocode\n",
        "* If the steps of the pseudocode are correct, i.e., they accurately describe the problem to be solved...\n",
        "  * ...and we correctly translate each step to Python\n",
        "  * ...and we didn't write the steps in the wrong order\n",
        "  * ...then our code should work!\n",
        "* BUT it's important to realize that we will, at least at first...\n",
        "  * Leave out steps\n",
        "  * Write steps in the wrong order\n",
        "  * Mis-translate steps"
      ]
    }
  ],
  "metadata": {
    "kernelspec": {
      "display_name": "Python 3 (ipykernel)",
      "language": "python",
      "name": "python3"
    },
    "language_info": {
      "codemirror_mode": {
        "name": "ipython",
        "version": 3
      },
      "file_extension": ".py",
      "mimetype": "text/x-python",
      "name": "python",
      "nbconvert_exporter": "python",
      "pygments_lexer": "ipython3",
      "version": "3.13.1"
    },
    "colab": {
      "provenance": []
    }
  },
  "nbformat": 4,
  "nbformat_minor": 5
}