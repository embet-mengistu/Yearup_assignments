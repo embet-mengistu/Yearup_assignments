{
  "cells": [
    {
      "cell_type": "markdown",
      "id": "76639b6d-da73-4e1e-8aaa-0070a2403485",
      "metadata": {
        "id": "76639b6d-da73-4e1e-8aaa-0070a2403485"
      },
      "source": [
        "# Homework: Variables/Boolean Expressions/__`if`__ Statements/Pseudocode\n",
        "\n",
        "## **Submission Guidelines**\n",
        "* Focus on completing Exercises 1, 2 and 3. Exercises 4 and 5 are _stretch challenges_.\n",
        "* Submit your work as a single Python file (__`.py`__) or a Jupyter Notebook (__`.ipynb`__).\n",
        "* Clearly label each exercise and include comments to explain your logic.\n",
        "\n",
        "## Instructions\n",
        "\n",
        "Complete the following exercises in a single Python file or Jupyter Notebook. Clearly label each exercise and when needed, include comments explaining your logic. Focus on completing Exercise 1 through 4. Exercise 5 is a _stretch challenge_."
      ]
    },
    {
      "cell_type": "markdown",
      "id": "1b3cec93-6b5b-4d78-81ab-17ab17b75a25",
      "metadata": {
        "id": "1b3cec93-6b5b-4d78-81ab-17ab17b75a25"
      },
      "source": [
        "### Exercise 1: Variables\n",
        "* Each scenario below describes some data to be manipulated by your code. Choose appropriate variable names (and values) and create variables/expressions for these scenarios.\n",
        "  "
      ]
    },
    {
      "cell_type": "code",
      "execution_count": null,
      "id": "d2294621-440c-4667-87df-6306f0a70fec",
      "metadata": {
        "id": "d2294621-440c-4667-87df-6306f0a70fec"
      },
      "outputs": [],
      "source": []
    },
    {
      "cell_type": "markdown",
      "id": "8a3f8bb8-024e-4645-b633-356db225d206",
      "metadata": {
        "id": "8a3f8bb8-024e-4645-b633-356db225d206"
      },
      "source": [
        "1. Determine the cost of some number of pounds of cement. Assume there is a sales tax that applies.\n",
        "  "
      ]
    },
    {
      "cell_type": "code",
      "execution_count": 3,
      "id": "d0fe743d-1acd-41a8-a0b9-92aedc8fc0a4",
      "metadata": {
        "colab": {
          "base_uri": "https://localhost:8080/"
        },
        "id": "d0fe743d-1acd-41a8-a0b9-92aedc8fc0a4",
        "outputId": "5c6ea0bd-ec5d-44bd-c74e-752f9f023a3b"
      },
      "outputs": [
        {
          "output_type": "execute_result",
          "data": {
            "text/plain": [
              "66.0"
            ]
          },
          "metadata": {},
          "execution_count": 3
        }
      ],
      "source": [
        "tax_percentage = 10 / 100\n",
        "pounds=30\n",
        "price_per_pound = 2.00\n",
        "\n",
        "sub_total= price_per_pound * pounds\n",
        "sales_tax= sub_total * tax_percentage\n",
        "total_cost= sub_total+ sales_tax\n",
        "total_cost"
      ]
    },
    {
      "cell_type": "markdown",
      "id": "b1aa5351-43b1-401f-b15a-ecff2d4c393b",
      "metadata": {
        "id": "b1aa5351-43b1-401f-b15a-ecff2d4c393b"
      },
      "source": [
        "2. Given the cost of various containers of eggs (perhaps half a dozen, one dozen, and 1 1/2 dozen), determine the cost _per egg_ for each of those containers.\n",
        "  "
      ]
    },
    {
      "cell_type": "code",
      "execution_count": 7,
      "id": "e757836e-1848-434f-9301-d41470770f49",
      "metadata": {
        "colab": {
          "base_uri": "https://localhost:8080/"
        },
        "id": "e757836e-1848-434f-9301-d41470770f49",
        "outputId": "01bfa944-9e25-45f5-b89b-227491a76e46"
      },
      "outputs": [
        {
          "output_type": "stream",
          "name": "stdout",
          "text": [
            "Cost per egg for one dozen: 8.333333333333334\n"
          ]
        }
      ],
      "source": [
        "cost_dozen=100\n",
        "cost_per_egg_dozen = cost_dozen / 12\n",
        "print(\"Cost per egg for one dozen:\", cost_per_egg_dozen)\n"
      ]
    },
    {
      "cell_type": "markdown",
      "id": "192dfb2f-790e-4725-b201-3b803f4fc348",
      "metadata": {
        "id": "192dfb2f-790e-4725-b201-3b803f4fc348"
      },
      "source": [
        "3. Given an hourly wage and a number of hours worked, determine how much a worker should be paid for shoveling snow."
      ]
    },
    {
      "cell_type": "code",
      "execution_count": 9,
      "id": "9f098469-0470-4a68-ba73-721bd6526c2c",
      "metadata": {
        "colab": {
          "base_uri": "https://localhost:8080/"
        },
        "id": "9f098469-0470-4a68-ba73-721bd6526c2c",
        "outputId": "890649e8-f94c-42dc-84d9-526c447a9354"
      },
      "outputs": [
        {
          "output_type": "execute_result",
          "data": {
            "text/plain": [
              "920"
            ]
          },
          "metadata": {},
          "execution_count": 9
        }
      ],
      "source": [
        "hourly_wage=23\n",
        "hours_worked=40\n",
        "\n",
        "total_pay=hourly_wage*hours_worked\n",
        "total_pay"
      ]
    },
    {
      "cell_type": "markdown",
      "id": "3a702132-7720-45b3-97d6-6dc7d4fc1113",
      "metadata": {
        "id": "3a702132-7720-45b3-97d6-6dc7d4fc1113"
      },
      "source": [
        "### Exercise 2: Boolean Expressions\n",
        "* Each scenario below describes some data to be manipulated by your code. Choose appropriate variable names (and values) and create Boolean expressions for these scenarios.\n",
        "  "
      ]
    },
    {
      "cell_type": "markdown",
      "id": "192e9f66-c2a7-4933-beaa-4666f57ac042",
      "metadata": {
        "id": "192e9f66-c2a7-4933-beaa-4666f57ac042"
      },
      "source": [
        "1. Given the number of hours worked in a week, determine whether the employee will receive any overtime pay.\n",
        "  "
      ]
    },
    {
      "cell_type": "code",
      "execution_count": 16,
      "id": "d99bbc14-4ab9-4cc2-abf4-0f847d4aa95c",
      "metadata": {
        "colab": {
          "base_uri": "https://localhost:8080/"
        },
        "id": "d99bbc14-4ab9-4cc2-abf4-0f847d4aa95c",
        "outputId": "19e5b893-fe61-484e-aa01-35222d890eda"
      },
      "outputs": [
        {
          "output_type": "stream",
          "name": "stdout",
          "text": [
            "Will receive any overtime pay\n"
          ]
        }
      ],
      "source": [
        "hrsworked_per_week=48\n",
        "if hrsworked_per_week <= 40:\n",
        "  print (\"Will not receive any overtime pay\")\n",
        "else:\n",
        "    print (\"Will receive any overtime pay\")"
      ]
    },
    {
      "cell_type": "markdown",
      "id": "39e3ed1b-b146-4653-a011-05cc34913574",
      "metadata": {
        "id": "39e3ed1b-b146-4653-a011-05cc34913574"
      },
      "source": [
        "2. Determine whether someone else's name is the same as your name.\n",
        "  "
      ]
    },
    {
      "cell_type": "code",
      "execution_count": 20,
      "id": "99c07417-eb54-44db-8fdf-d890b0f48892",
      "metadata": {
        "colab": {
          "base_uri": "https://localhost:8080/"
        },
        "id": "99c07417-eb54-44db-8fdf-d890b0f48892",
        "outputId": "9eb870cb-c07f-4847-f691-2a5d1a9e0e4b"
      },
      "outputs": [
        {
          "output_type": "stream",
          "name": "stdout",
          "text": [
            "Same name\n"
          ]
        }
      ],
      "source": [
        "name_given=\"gigi\"\n",
        "if name_given == \"Gigi\" or \"gigi\":\n",
        "  print (\"Same name\")\n",
        "else :\n",
        "  print (\"Not same name\")"
      ]
    },
    {
      "cell_type": "markdown",
      "id": "906a7a13-ae3e-4369-8853-a970d326c03e",
      "metadata": {
        "id": "906a7a13-ae3e-4369-8853-a970d326c03e"
      },
      "source": [
        "3. Determine whether the number of consecutive days of rain is at least 3"
      ]
    },
    {
      "cell_type": "code",
      "execution_count": 23,
      "id": "490fd285-10c5-4d98-8bb5-fde0566e6064",
      "metadata": {
        "colab": {
          "base_uri": "https://localhost:8080/"
        },
        "id": "490fd285-10c5-4d98-8bb5-fde0566e6064",
        "outputId": "683f1091-6d11-45bf-9616-60583dd44ce3"
      },
      "outputs": [
        {
          "output_type": "stream",
          "name": "stdout",
          "text": [
            "Did not rain for 3 consecutive days\n"
          ]
        }
      ],
      "source": [
        "number_of_days_rained=2\n",
        "if number_of_days_rained >=3 :\n",
        "   print (\"Rained for 3 consecutive days\")\n",
        "else :\n",
        "  print (\"Did not rain for 3 consecutive days\")"
      ]
    },
    {
      "cell_type": "markdown",
      "id": "6901b93f-56e3-4400-9acb-cee75d015682",
      "metadata": {
        "id": "6901b93f-56e3-4400-9acb-cee75d015682"
      },
      "source": [
        "### Exercise 3: Pseudocode\n",
        "* Turn the following bits of pseudocode into __`if`__ statements\n",
        "  "
      ]
    },
    {
      "cell_type": "markdown",
      "id": "9dfa5f07-9053-4497-ab09-a2dd4d4445f1",
      "metadata": {
        "id": "9dfa5f07-9053-4497-ab09-a2dd4d4445f1"
      },
      "source": [
        "1. Output a warning if the person's name is empty"
      ]
    },
    {
      "cell_type": "code",
      "source": [
        "name=\"\"\n",
        "if name==\"\":\n",
        "   print (\"Warning\")\n"
      ],
      "metadata": {
        "colab": {
          "base_uri": "https://localhost:8080/"
        },
        "id": "yySMpI9VaK-M",
        "outputId": "f2c95a20-4d3b-4715-f97d-1a1e63335f34"
      },
      "id": "yySMpI9VaK-M",
      "execution_count": 26,
      "outputs": [
        {
          "output_type": "stream",
          "name": "stdout",
          "text": [
            "Warning\n"
          ]
        }
      ]
    },
    {
      "cell_type": "markdown",
      "id": "a3f4e55f-8d45-4fef-bfe2-a754e694872e",
      "metadata": {
        "id": "a3f4e55f-8d45-4fef-bfe2-a754e694872e"
      },
      "source": [
        "3. BMI can be calculated as 703 times weight in pounds, divided by height in inches squared. Output \"Healthy BMI\" if the calculated BMI is below 25."
      ]
    },
    {
      "cell_type": "code",
      "source": [
        "weight=20\n",
        "height=65\n",
        "\n",
        "BMI=(703*weight)/(height ** 2)\n",
        "\n",
        "if BMI < 25:\n",
        "   print (\"Healthy BMI\")\n",
        "else :\n",
        "   print (\"Unhealthy BMI\")"
      ],
      "metadata": {
        "colab": {
          "base_uri": "https://localhost:8080/"
        },
        "id": "ODBM2hSjahDc",
        "outputId": "9d0424bb-e6e2-4f84-a6a8-7a10151b2cfa"
      },
      "id": "ODBM2hSjahDc",
      "execution_count": 32,
      "outputs": [
        {
          "output_type": "stream",
          "name": "stdout",
          "text": [
            "Healthy BMI\n"
          ]
        }
      ]
    },
    {
      "cell_type": "markdown",
      "id": "8f66564d-86cf-4141-be27-fe41a0145695",
      "metadata": {
        "id": "8f66564d-86cf-4141-be27-fe41a0145695"
      },
      "source": [
        "2. Turn on the fuel warning light when the number of gallons remaining is less than 1.5"
      ]
    },
    {
      "cell_type": "code",
      "source": [
        "number_of_gallons=1\n",
        "\n",
        "if number_of_gallons < 1.5:\n",
        "   print (\"Warning light: Low fuel\")\n"
      ],
      "metadata": {
        "colab": {
          "base_uri": "https://localhost:8080/"
        },
        "id": "uG0vWENXbxUz",
        "outputId": "774956c0-50a1-403b-dd26-865efd209210"
      },
      "id": "uG0vWENXbxUz",
      "execution_count": 36,
      "outputs": [
        {
          "output_type": "stream",
          "name": "stdout",
          "text": [
            "Warning light: Low fuel\n"
          ]
        }
      ]
    },
    {
      "cell_type": "markdown",
      "id": "2c55859e-fa56-4690-a8a6-70b73e1249fc",
      "metadata": {
        "id": "2c55859e-fa56-4690-a8a6-70b73e1249fc"
      },
      "source": [
        "### Exercise 4: if statements\n",
        "* Explain what each of the following __`if`__ statements is doing/asking"
      ]
    },
    {
      "cell_type": "code",
      "execution_count": 37,
      "id": "e282eb92-7ac0-47c8-9ee6-6311d7832a39",
      "metadata": {
        "colab": {
          "base_uri": "https://localhost:8080/"
        },
        "id": "e282eb92-7ac0-47c8-9ee6-6311d7832a39",
        "outputId": "c584ad85-2c9f-4814-f173-5e4c8903dbca"
      },
      "outputs": [
        {
          "output_type": "stream",
          "name": "stdout",
          "text": [
            "...\n"
          ]
        }
      ],
      "source": [
        "feet = 4\n",
        "inches = 8\n",
        "\n",
        "if feet * 12 + inches >= 56:\n",
        "    print('...')\n",
        "\n",
        "#If the total calculated amount is greater than or equal to 56, it asking to print \"...\""
      ]
    },
    {
      "cell_type": "code",
      "execution_count": null,
      "id": "a403c893-6b7e-4497-9e44-14e1ca773181",
      "metadata": {
        "id": "a403c893-6b7e-4497-9e44-14e1ca773181"
      },
      "outputs": [],
      "source": []
    },
    {
      "cell_type": "code",
      "execution_count": null,
      "id": "d20594b7-6e22-49c9-af84-59f842357bc4",
      "metadata": {
        "id": "d20594b7-6e22-49c9-af84-59f842357bc4"
      },
      "outputs": [],
      "source": [
        "hours = 220\n",
        "days = 0\n",
        "\n",
        "if hours > 23:\n",
        "    days = hours // 24\n",
        "    print(days)\n",
        "\n",
        "print(hours - days * 24)\n",
        "\n",
        "#If hours is greater than 23, its converting number of hours into full days (// performs division and removes the decimal part) and then prints the days\n",
        "#If hours is not greater than 23, it just suntracts the given days from the hours and multiplies it by 24"
      ]
    },
    {
      "cell_type": "code",
      "execution_count": null,
      "id": "64dac05b-d423-448f-8369-6f0f6b0cb9c3",
      "metadata": {
        "id": "64dac05b-d423-448f-8369-6f0f6b0cb9c3"
      },
      "outputs": [],
      "source": []
    },
    {
      "cell_type": "code",
      "execution_count": 40,
      "id": "6b8c21b4-3a09-435d-a36c-0bde2fea31ad",
      "metadata": {
        "colab": {
          "base_uri": "https://localhost:8080/"
        },
        "id": "6b8c21b4-3a09-435d-a36c-0bde2fea31ad",
        "outputId": "a70d3084-1054-4253-a260-06c498fe3ca4"
      },
      "outputs": [
        {
          "output_type": "stream",
          "name": "stdout",
          "text": [
            "plus 11\n"
          ]
        }
      ],
      "source": [
        "eggs = 11\n",
        "\n",
        "if eggs >= 12:\n",
        "    print(eggs // 12, 'dozen')\n",
        "\n",
        "print('plus', eggs - (eggs // 12) * 12)\n",
        "\n",
        "#If eggs is greater than or equal to 12, it prints the number of dozens by dividing(// performs division and removes the decimal part) eggs by 12 with a sting \"dozen\"\n",
        "#Else it prints \"plus\", the amount of given eggs"
      ]
    },
    {
      "cell_type": "code",
      "execution_count": null,
      "id": "23dee90b-6807-4ca7-8a3b-77a58c21217f",
      "metadata": {
        "id": "23dee90b-6807-4ca7-8a3b-77a58c21217f"
      },
      "outputs": [],
      "source": []
    },
    {
      "cell_type": "markdown",
      "id": "b0196bce-78f4-489f-8209-0e4d0eb601b9",
      "metadata": {
        "id": "b0196bce-78f4-489f-8209-0e4d0eb601b9"
      },
      "source": [
        "### Exercise 5: if statements\n",
        "1. Turn the following English description of a problem (steps) into pseudocode. Not that where you see \"find out\" below, you can either assume the value will be in a variable, or you can get input from the user. Remember this is pseudocode you are writing, so even though we haven't learned how to get input from the user, you could specify that action in your pseudocode.\n",
        "\n",
        "    1. find out how many people are in their party\n",
        "    1. find out the start time of the movie they want to see\n",
        "    1. find out how many seniors (62+) are in their party\n",
        "    1. find out how many students are in their party\n",
        "    1. the price of their tickets will be \\\\$10 each for movies that start after 4:30 pm and \\\\$7.50 for movies that start before 4:30 pm\n",
        "    1. seniors (62+) receive a 50% discount on the ticket price\n",
        "    1. students received a 25% discount on the ticket price\n",
        "    1. a group of 10+ paid at the same time saves \\\\$1 per ticket, on top of any other discounts\n",
        "\n",
        "1. Now turn your pseudocode into working Python code. Again, we haven't learned how to get input from the user but could also look it up or you could set variables with various values and ensure the result is correct."
      ]
    },
    {
      "cell_type": "code",
      "source": [
        "################################################################################################################################\n",
        "#The f before a string tells Python that this is an f-string, meaning it expects expressions inside {} to be evaluated and inserted into the string.\n",
        "#######################################################################################"
      ],
      "metadata": {
        "id": "_hyJSlV2jyfB"
      },
      "id": "_hyJSlV2jyfB",
      "execution_count": null,
      "outputs": []
    },
    {
      "cell_type": "code",
      "execution_count": 73,
      "id": "c6738a10-12ad-410a-8b16-b1b8a517cece",
      "metadata": {
        "colab": {
          "base_uri": "https://localhost:8080/"
        },
        "id": "c6738a10-12ad-410a-8b16-b1b8a517cece",
        "outputId": "439cbe7a-072f-4273-8921-807042215b94"
      },
      "outputs": [
        {
          "output_type": "stream",
          "name": "stdout",
          "text": [
            "Do you want to watch the movie after 4:30PM? Yes/Nogg\n",
            "Please enter a valid answer.Yes/No\n"
          ]
        }
      ],
      "source": [
        "## 1.Ask input from the user how many people are in their party, and store it in a variable.And then can print it\n",
        "party_size = int(input(\"How many people are in your party? \"))\n",
        "print(f\"There are {party_size} people in the party.\")\n",
        "\n",
        "## 2.Ask input from the user start time of the movie they want to see and store it in a variable.\n",
        "start_time=str(input(\"What time does the movie start\"))\n",
        "print(f\"The movie starts {start_time}\")\n",
        "\n",
        "## 3.Ask input from the user thier ages, if 62+ we group them as seniors OR we can just ask how many seniors are there in their party.and store it in a variable.\n",
        "seniors = int(input(\"How many seniors (62+) are in your party? \"))\n",
        "print(f\"There are {seniors} seniors in the party.\")\n",
        "\n",
        "## 4.Ask input from the user how many students are in their party and store it in a variable.\n",
        "student = int(input(\"How many students are in your party? \"))\n",
        "print(f\"There are {student} studentsin the party.\")\n",
        "\n",
        "## 5.Ask input from the user do they want to watch the movie before or after 4:30PM, store it in a variable, create if statement to determine how much they pay.\n",
        "movie_time = str(input(\"Do you want to watch the movie after 4:30PM? Yes/No\"))\n",
        "if(movie_time.lower()==\"yes\"):\n",
        "  print(\"Tickets will be $10\")\n",
        "elif(movie_time.lower()==\"no\"):\n",
        "  print(\"Tickets will be $7.50\")\n",
        "else:\n",
        "  print(\"Please enter a valid answer.Yes/No\")\n",
        "\n",
        "\n",
        "## 6.Ask input from the user thier age,store it in a variable,if 62+ we apply 50% discount on the ticket price\n",
        "age = int(input(\"How old are you?\"))\n",
        "ticket_price=100\n",
        "if(age>62):\n",
        "  discount= ticket_price * 50/100\n",
        "  total_cost=ticket_price-discount\n",
        "  print(f\"The cost of the ticket {total_cost} with 50% discount\")\n",
        "else:\n",
        "    print(f\"The cost of the ticket {ticket_price} full price\")\n",
        "\n",
        "## 7.Ask input from the user if they are student or not,store it in a variable, if student 25% discount on the ticket price.\n",
        "student = str(input(\"Are you a student? YES/NO\"))\n",
        "ticket_price=100\n",
        "\n",
        "if (student.lower() == \"yes\"):\n",
        "  discount= ticket_price * 25/100\n",
        "  total_cost=ticket_price-discount\n",
        "  print(f\"The cost of the ticket {total_cost} with 25% discount\")\n",
        "else:\n",
        "    print(f\"The cost of the ticket {ticket_price} full price\")\n",
        "\n",
        "## 8.If tickets bought at same time is 10+, we subtract number of ticklets bought from the total since the discount is 1 dollar.\n",
        "ticket_bought = int(input(\"How many tickets did you buy today\"))\n",
        "ticket_price=100\n",
        "total_price= ticket_price * ticket_bought\n",
        "\n",
        "if(ticket_bought<10):\n",
        "  print(f\"Total amout is {total_price}\")\n",
        "else:\n",
        "  discounted_price= total_price - ticket_bought\n",
        "  print(f\"Total amout is {discounted_price},saved \\$1 per ticket\")\n",
        "\n",
        "\n"
      ]
    },
    {
      "cell_type": "code",
      "source": [],
      "metadata": {
        "id": "tYyPIUrrf6nt"
      },
      "id": "tYyPIUrrf6nt",
      "execution_count": null,
      "outputs": []
    },
    {
      "cell_type": "code",
      "source": [],
      "metadata": {
        "id": "Wfz1ao44f6Pd"
      },
      "id": "Wfz1ao44f6Pd",
      "execution_count": null,
      "outputs": []
    },
    {
      "cell_type": "code",
      "source": [],
      "metadata": {
        "id": "0sncGej3f6cO"
      },
      "id": "0sncGej3f6cO",
      "execution_count": null,
      "outputs": []
    }
  ],
  "metadata": {
    "kernelspec": {
      "display_name": "Python 3 (ipykernel)",
      "language": "python",
      "name": "python3"
    },
    "language_info": {
      "codemirror_mode": {
        "name": "ipython",
        "version": 3
      },
      "file_extension": ".py",
      "mimetype": "text/x-python",
      "name": "python",
      "nbconvert_exporter": "python",
      "pygments_lexer": "ipython3",
      "version": "3.13.1"
    },
    "colab": {
      "provenance": []
    }
  },
  "nbformat": 4,
  "nbformat_minor": 5
}