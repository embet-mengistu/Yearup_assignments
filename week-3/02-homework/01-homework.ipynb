{
  "cells": [
    {
      "cell_type": "markdown",
      "metadata": {
        "id": "5ysHT6X8C3TC"
      },
      "source": [
        "# Homework: Lists and Conditional Logic\n",
        "\n",
        "## **Submission Guidelines**\n",
        "* Focus on completing Exercises 1, 2 and 3. Exercises 4 and 5 are _stretch challenges_.\n",
        "* Submit your by copy and pasting each exercise into the text submission box for this assessment in brightspace* Clearly label each exercise and include comments to explain your logic.\n",
        "\n",
        "## Instructions\n",
        "\n",
        "Complete the following exercises in a single Python file or Jupyter Notebook. Clearly label each exercise and include comments explaining your logic. Focus on completing Exercises 1–3; Exercises 4 and 5 are stretch challenges. **Do not use loops or built-in aggregate functions in Exercises 4 and 5.** Use only basic variables, list indexing (referring to the first element, second element, etc.), conditionals, and arithmetic operations.\n",
        "\n",
        "Focus on completing Exercises 1–3. Exercises 4 and 5 are stretch challenges.\n",
        "\n",
        "**Remember to start with the English steps, write pseudocode, then write code.**"
      ]
    },
    {
      "cell_type": "markdown",
      "metadata": {
        "id": "9nP4CZTeC3TE"
      },
      "source": [
        "### Exercise 1: Basic List Operations\n",
        "\n",
        "1. **Create a List:** Write code to create a list with 5 elements of your choice.\n",
        "2. **Print the List:** Display the original list.\n",
        "3. **Modify the List:**\n",
        "   - Change the second element to a new value.\n",
        "   - Append a new element to the end of the list.\n",
        "   - Remove the third element from the list.\n",
        "4. **Print the Updated List:** Verify your modifications by printing the final list.\n"
      ]
    },
    {
      "cell_type": "code",
      "execution_count": 1,
      "metadata": {
        "id": "qM1YVJ2yC3TE"
      },
      "outputs": [],
      "source": [
        "# Exercise 1, Step 1: Create a list with 5 elements\n",
        "# Your code here\n",
        "mixedList=[1,\"gigi\",1.24,False]"
      ]
    },
    {
      "cell_type": "code",
      "execution_count": 2,
      "metadata": {
        "colab": {
          "base_uri": "https://localhost:8080/"
        },
        "id": "vq_waFRvC3TE",
        "outputId": "bca4242d-15ab-4d74-8c6f-0b0f7f006f60"
      },
      "outputs": [
        {
          "output_type": "execute_result",
          "data": {
            "text/plain": [
              "[1, 'gigi', 1.24, False]"
            ]
          },
          "metadata": {},
          "execution_count": 2
        }
      ],
      "source": [
        "# Exercise 1, Step 2: Print the original list\n",
        "# Your code here\n",
        "mixedList"
      ]
    },
    {
      "cell_type": "code",
      "execution_count": 9,
      "metadata": {
        "colab": {
          "base_uri": "https://localhost:8080/"
        },
        "id": "8rxFiGlBC3TF",
        "outputId": "c95bde7f-4f59-48c8-84f5-9d353a932643"
      },
      "outputs": [
        {
          "output_type": "execute_result",
          "data": {
            "text/plain": [
              "[1, 4, 'hahah', 'hahah', 'hahah', 'lol', 'lol']"
            ]
          },
          "metadata": {},
          "execution_count": 9
        }
      ],
      "source": [
        "# Exercise 1, Step 3: Modify the list\n",
        "# - Change the second element to a new value\n",
        "# - Append a new element to the end of the list\n",
        "# - Remove the third element from the list\n",
        "# Your code here\n",
        "mixedList[1]=4\n",
        "mixedList.append(\"lol\")\n",
        "mixedList.remove(mixedList[2])\n"
      ]
    },
    {
      "cell_type": "code",
      "execution_count": 11,
      "metadata": {
        "colab": {
          "base_uri": "https://localhost:8080/"
        },
        "id": "0xC_CX2NC3TF",
        "outputId": "9b6306e8-0973-4f33-e953-94a6aee35e86"
      },
      "outputs": [
        {
          "output_type": "stream",
          "name": "stdout",
          "text": [
            "[1, 4, 'hahah', 'hahah', 'hahah', 'lol', 'lol']\n"
          ]
        }
      ],
      "source": [
        "# Exercise 1, Step 4: Print the updated list\n",
        "# Your code here\n",
        "print(mixedList)"
      ]
    },
    {
      "cell_type": "markdown",
      "metadata": {
        "id": "UO-fdPUgC3TF"
      },
      "source": [
        "### Exercise 2: Membership Check\n",
        "\n",
        "1. **Create a List:** Write code to create a list with 5 colors of your choice.\n",
        "2. **Membership Check:** Check if the color \"blue\" is in your list.\n",
        "   - If it is present, print a message confirming that the list contains \"blue\".\n",
        "   - If it is not present, print a message indicating that \"blue\" is not in the list.\n",
        "\n",
        "*Note:* You do not need to retrieve the position of the element; simply print a confirmation message."
      ]
    },
    {
      "cell_type": "code",
      "execution_count": 18,
      "metadata": {
        "id": "LUArRnYaC3TF"
      },
      "outputs": [],
      "source": [
        "# Exercise 2, Step 1: Create a list with 5 colors\n",
        "# Your code here\n",
        "colors=[\"pink\",\"black\",\"green\",\"yellow\",\"red\"]"
      ]
    },
    {
      "cell_type": "code",
      "execution_count": 19,
      "metadata": {
        "colab": {
          "base_uri": "https://localhost:8080/"
        },
        "id": "7BwrGJzOC3TF",
        "outputId": "1ed8a108-e5a9-4ab9-dcef-e3ea9be0bd2b"
      },
      "outputs": [
        {
          "output_type": "stream",
          "name": "stdout",
          "text": [
            "List does not contains blue\n"
          ]
        }
      ],
      "source": [
        "# Exercise 2, Step 2: Check for membership of 'blue'\n",
        "# Your code here\n",
        "if 'blue' in colors:\n",
        "  print(\"List contains blue\")\n",
        "else:\n",
        "    print(\"List does not contains blue.\")"
      ]
    },
    {
      "cell_type": "markdown",
      "metadata": {
        "id": "6hSBY0KEC3TF"
      },
      "source": [
        "### Exercise 3: Real-World List Modification (Hard)\n",
        "\n",
        "Imagine you are managing a set of 5 numbers (for example, representing test scores). Write a program that performs the following tasks (remember: the first element is the first, the second is the second, and so on):\n",
        "\n",
        "1. **Initialize the List:** Create a list of 5 numbers.\n",
        "2. **Conditional Adjustment:** Check if the third element is less than 50.\n",
        "   - If it is, update that element to 50.\n",
        "3. **Conditional Penalty:** Calculate the sum of the first element and the last element.\n",
        "   - If this sum is greater than 100, set the last element to 0.\n",
        "4. **Swap Operation:** Swap the first element with the third element.\n",
        "5. **Print the Final List:** Display the modified list.\n"
      ]
    },
    {
      "cell_type": "code",
      "execution_count": 12,
      "metadata": {
        "id": "YOSsWcswC3TF"
      },
      "outputs": [],
      "source": [
        "# Exercise 3, Step 1: Initialize a list of 5 numbers\n",
        "# Your code here\n",
        "numbers=[1,23,25,67,3]"
      ]
    },
    {
      "cell_type": "code",
      "execution_count": 14,
      "metadata": {
        "colab": {
          "base_uri": "https://localhost:8080/"
        },
        "id": "Q9XpTZGhC3TF",
        "outputId": "71a5f3f3-b79c-49c4-942e-1dcce44cd2d7"
      },
      "outputs": [
        {
          "output_type": "stream",
          "name": "stdout",
          "text": [
            "Its not less than 50,so it wont be updated\n"
          ]
        }
      ],
      "source": [
        "# Exercise 3, Step 2: Conditional adjustment - if the third element is less than 50, update it to 50\n",
        "# Your code here\n",
        "\n",
        "if numbers[2]<50:\n",
        "   numbers[2]=50\n",
        "else:\n",
        "  print(\"Its not less than 50,so it wont be updated\")\n",
        "\n"
      ]
    },
    {
      "cell_type": "code",
      "execution_count": 15,
      "metadata": {
        "colab": {
          "base_uri": "https://localhost:8080/"
        },
        "id": "5Lf2w_PbC3TF",
        "outputId": "6b2311d2-4f7c-412e-c14e-385d39258171"
      },
      "outputs": [
        {
          "output_type": "stream",
          "name": "stdout",
          "text": [
            "Its not greater than 100, so the last element not be updates\n"
          ]
        }
      ],
      "source": [
        "# Exercise 3, Step 3: Conditional penalty - if the sum of the first and last elements is greater than 100, set the last element to 0\n",
        "# Your code here\n",
        "total=numbers[0]+numbers[-1]\n",
        "\n",
        "if total>100:\n",
        "  numbers[-1]=0\n",
        "else:\n",
        "  print(\"Its not greater than 100, so the last element not be updates\")"
      ]
    },
    {
      "cell_type": "code",
      "execution_count": 16,
      "metadata": {
        "id": "ir8IOoPuC3TF"
      },
      "outputs": [],
      "source": [
        "# Exercise 3, Step 4: Swap the first element with the third element\n",
        "# Your code here\n",
        "numbers[0], numbers[2] = numbers[2], numbers[0]\n"
      ]
    },
    {
      "cell_type": "code",
      "execution_count": 17,
      "metadata": {
        "colab": {
          "base_uri": "https://localhost:8080/"
        },
        "id": "kaVFNQ_6C3TG",
        "outputId": "bb4f668a-2d3f-444c-97e8-b9a544ed3b14"
      },
      "outputs": [
        {
          "output_type": "execute_result",
          "data": {
            "text/plain": [
              "[50, 23, 1, 67, 3]"
            ]
          },
          "metadata": {},
          "execution_count": 17
        }
      ],
      "source": [
        "# Exercise 3, Step 5: Print the final list\n",
        "# Your code here\n",
        "numbers\n"
      ]
    },
    {
      "cell_type": "markdown",
      "metadata": {
        "id": "t22lVjHLC3TG"
      },
      "source": [
        "### Exercise 4: Manual Analysis Without Loops or Built-In Functions (Extra Hard)\n",
        "\n",
        "You are given a list of 10 numbers (for instance, representing grades). Without using loops or built-in functions (such as `sum()`, `len()`, etc.), complete the following tasks by manually accessing each element:\n",
        "\n",
        "1. **Create a List:** Write code to create a list with 10 numbers.\n",
        "2. **Compute the Total:** Manually add all the numbers by accessing each element individually.\n",
        "3. **Calculate the Average:** Divide the total by the number of elements in the list.\n",
        "4. **Determine the Highest Value:** Use `if` statements to compare the elements and determine the highest value.\n",
        "5. **Determine the Lowest Value:** Similarly, determine the lowest value among the elements.\n",
        "6. **Print Your Results:** Display the average, highest, and lowest values.\n"
      ]
    },
    {
      "cell_type": "code",
      "execution_count": null,
      "metadata": {
        "id": "1DVMQ6u-C3TG"
      },
      "outputs": [],
      "source": [
        "# Exercise 4, Step 1: Create a list with 10 numbers\n",
        "# Your code here"
      ]
    },
    {
      "cell_type": "code",
      "execution_count": null,
      "metadata": {
        "id": "p_KBcX_2C3TG"
      },
      "outputs": [],
      "source": [
        "# Exercise 4, Step 2: Manually compute the total of all numbers\n",
        "# Your code here"
      ]
    },
    {
      "cell_type": "code",
      "execution_count": null,
      "metadata": {
        "id": "R75eZFMSC3TG"
      },
      "outputs": [],
      "source": [
        "# Exercise 4, Step 3: Calculate the average of the numbers\n",
        "# Your code here"
      ]
    },
    {
      "cell_type": "code",
      "execution_count": null,
      "metadata": {
        "id": "MCLjbqkXC3TG"
      },
      "outputs": [],
      "source": [
        "# Exercise 4, Step 4: Determine the highest value using if statements\n",
        "# Your code here"
      ]
    },
    {
      "cell_type": "code",
      "execution_count": null,
      "metadata": {
        "id": "1vcEHjeIC3TG"
      },
      "outputs": [],
      "source": [
        "# Exercise 4, Step 5: Determine the lowest value using if statements\n",
        "# Your code here"
      ]
    },
    {
      "cell_type": "code",
      "execution_count": null,
      "metadata": {
        "id": "5LF13ZUHC3TG"
      },
      "outputs": [],
      "source": [
        "# Exercise 4, Step 6: Print the average, highest, and lowest values\n",
        "# Your code here"
      ]
    },
    {
      "cell_type": "markdown",
      "metadata": {
        "id": "u_wLUT-zC3TG"
      },
      "source": [
        "### Exercise 5: Vowel Filter Without Loops (Nearly Impossible)\n",
        "\n",
        "Create a program that filters a list of 7 strings to include only those that start with a vowel. **Do not use loops.** Instead, use individual conditional statements and manual indexing.\n",
        "\n",
        "1. **Create a List:** Write code to create a list with 7 strings of your choice.\n",
        "2. **Filter the List:** For each string in the list, check if its first character is a vowel (a, e, i, o, or u).\n",
        "   - *Hint:* To access the first character of a string, use `string[0]`.\n",
        "   - For each string that starts with a vowel, add it to a new list manually.\n",
        "3. **Print the New List:** Display the list of strings that begin with a vowel.\n"
      ]
    },
    {
      "cell_type": "code",
      "execution_count": null,
      "metadata": {
        "id": "s3LOvSypC3TG"
      },
      "outputs": [],
      "source": [
        "# Exercise 5, Step 1: Create a list with 7 strings\n",
        "# Your code here"
      ]
    },
    {
      "cell_type": "code",
      "execution_count": null,
      "metadata": {
        "id": "crlmzQaAC3TG"
      },
      "outputs": [],
      "source": [
        "# Exercise 5, Step 2: Filter the list to include only strings that start with a vowel\n",
        "# Your code here"
      ]
    },
    {
      "cell_type": "code",
      "execution_count": null,
      "metadata": {
        "id": "gSpQN0_XC3TG"
      },
      "outputs": [],
      "source": [
        "# Exercise 5, Step 3: Print the new list of strings that start with a vowel\n",
        "# Your code here"
      ]
    },
    {
      "cell_type": "markdown",
      "metadata": {
        "id": "u6-aKn6nC3TG"
      },
      "source": [
        "### Submission Guidelines\n",
        "\n",
        "- Submit your work as a single Python file (`.py`) or a Jupyter Notebook (`.ipynb`).\n",
        "- Clearly label each exercise and include comments to explain your logic.\n",
        "- Focus on completing Exercises 1–3; Exercises 4 and 5 are stretch challenges.\n",
        "- Do not use loops or built-in aggregate functions in Exercises 4 and 5.\n",
        "\n",
        "Good luck, and have fun practicing your list and conditional skills!"
      ]
    }
  ],
  "metadata": {
    "kernelspec": {
      "display_name": "Python 3",
      "language": "python",
      "name": "python3"
    },
    "language_info": {
      "name": "python",
      "version": "3.x"
    },
    "colab": {
      "provenance": []
    }
  },
  "nbformat": 4,
  "nbformat_minor": 0
}