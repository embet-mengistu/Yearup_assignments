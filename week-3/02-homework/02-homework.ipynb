{
  "cells": [
    {
      "cell_type": "markdown",
      "metadata": {
        "id": "BKdmk-S0dJZd"
      },
      "source": [
        "# Homework 2: Loops and While Loops\n",
        "\n",
        "## **Submission Guidelines**\n",
        "* Focus on completing Exercises 1, 2 and 3. Exercises 4 and 5 are _stretch challenges_.\n",
        "* Submit your by copy and pasting each exercise into the text submission box for this assessment in brightspace* Clearly label each exercise and include comments to explain your logic.\n",
        "\n",
        "## Instructions\n",
        "\n",
        "Complete the following exercises in a single Python file or Jupyter Notebook. Clearly label each exercise and include comments explaining your logic. Use while loops, conditionals, list indexing (referring to the first element, the second element, etc.), and arithmetic operations.\n",
        "\n",
        "Focus on completing Exercises 1–3. Exercises 4 and 5 are stretch challenges.\n",
        "\n",
        "**Remember to start with the English steps, write pseudocode, then write code.**"
      ]
    },
    {
      "cell_type": "markdown",
      "metadata": {
        "id": "nZwbmdJwdJZg"
      },
      "source": [
        "## Exercise 1: Combined Basic While Loop and List Iteration\n",
        "\n",
        "### Part (a): Print Numbers 1 to 10\n",
        "\n",
        "Write a while loop that prints the numbers from 1 to 10 (each on a new line)."
      ]
    },
    {
      "cell_type": "code",
      "execution_count": 4,
      "metadata": {
        "id": "zXZ2x2vadJZg",
        "outputId": "38b58964-0b83-4a89-c88b-0ccc56e51549",
        "colab": {
          "base_uri": "https://localhost:8080/"
        }
      },
      "outputs": [
        {
          "output_type": "stream",
          "name": "stdout",
          "text": [
            "1\n",
            "2\n",
            "3\n",
            "4\n",
            "5\n",
            "6\n",
            "7\n",
            "8\n",
            "9\n",
            "10\n",
            "1\n",
            "2\n",
            "3\n",
            "4\n",
            "5\n",
            "6\n",
            "7\n",
            "8\n",
            "9\n",
            "10\n"
          ]
        }
      ],
      "source": [
        "# Exercise 1 (a): Print numbers 1 to 10 using a while loop\n",
        "# Your code here\n",
        "number = 1\n",
        "\n",
        "while number <= 10:\n",
        "    print(number)\n",
        "    number += 1\n",
        "# Bonus - try as a for loop\n",
        "\n",
        "for i in range(1, 11):\n",
        "    print(i)\n",
        "\n"
      ]
    },
    {
      "cell_type": "markdown",
      "metadata": {
        "id": "tFpN3izJdJZh"
      },
      "source": [
        "### Part (b): List Iteration\n",
        "\n",
        "1. Create a list with 5 elements of your choice.\n",
        "2. Use a while loop to iterate through the list and print each element."
      ]
    },
    {
      "cell_type": "code",
      "execution_count": 6,
      "metadata": {
        "id": "vQR2XftAdJZh"
      },
      "outputs": [],
      "source": [
        "# Exercise 1 (b): Create a list with 5 elements\n",
        "# Your code here\n",
        "lists=[1,2,3,4,5]"
      ]
    },
    {
      "cell_type": "code",
      "execution_count": 7,
      "metadata": {
        "id": "teZY-gMOdJZh",
        "outputId": "ac779871-703b-4f2f-f915-c72a9f04579e",
        "colab": {
          "base_uri": "https://localhost:8080/"
        }
      },
      "outputs": [
        {
          "output_type": "stream",
          "name": "stdout",
          "text": [
            "1\n",
            "2\n",
            "3\n",
            "4\n",
            "5\n"
          ]
        }
      ],
      "source": [
        "# Exercise 1 (b): Use a while loop to iterate through the list and print each element\n",
        "# Your code here\n",
        "i = 0\n",
        "while i < len(lists):\n",
        "    print(lists[i])\n",
        "    i += 1"
      ]
    },
    {
      "cell_type": "markdown",
      "metadata": {
        "id": "Lz5BKHMcdJZh"
      },
      "source": [
        "## Exercise 2: Sum and Average\n",
        "\n",
        "1. Create a list of 5 numbers.\n",
        "2. Use a while loop to compute the sum of the numbers in the list.\n",
        "3. Calculate the average (total divided by the number of elements).\n",
        "4. Print the sum and the average."
      ]
    },
    {
      "cell_type": "code",
      "execution_count": 10,
      "metadata": {
        "id": "wa-ONBZqdJZi"
      },
      "outputs": [],
      "source": [
        "# Exercise 2, Step 1: Create a list of 5 numbers\n",
        "# Your code here\n",
        "lists_numbers=[11,22,33,44,55]"
      ]
    },
    {
      "cell_type": "code",
      "execution_count": 12,
      "metadata": {
        "id": "4fxgF4UKdJZi",
        "outputId": "d718fe06-077e-46e1-90b5-1169fd8ddd14",
        "colab": {
          "base_uri": "https://localhost:8080/"
        }
      },
      "outputs": [
        {
          "output_type": "stream",
          "name": "stdout",
          "text": [
            "165\n"
          ]
        }
      ],
      "source": [
        "# Exercise 2, Step 2: Use a while loop to compute the sum of the numbers\n",
        "# Your code here\n",
        "i = 0\n",
        "sum=0\n",
        "\n",
        "while i < len(lists_numbers):\n",
        "    sum += lists_numbers[i]\n",
        "    i += 1\n",
        "print(sum)"
      ]
    },
    {
      "cell_type": "code",
      "execution_count": 13,
      "metadata": {
        "id": "RPvL-9sSdJZi",
        "outputId": "26d8c3e6-f550-4ea6-e47a-044ce452ee33",
        "colab": {
          "base_uri": "https://localhost:8080/"
        }
      },
      "outputs": [
        {
          "output_type": "stream",
          "name": "stdout",
          "text": [
            "33.0\n"
          ]
        }
      ],
      "source": [
        "# Exercise 2, Step 3: Calculate the average (total divided by the number of elements)\n",
        "# Your code here\n",
        "average= sum/len(lists_numbers)\n",
        "print(average)"
      ]
    },
    {
      "cell_type": "code",
      "execution_count": 14,
      "metadata": {
        "id": "PTyl_qHHdJZi",
        "outputId": "75578154-1c97-4393-9baf-7f5b72d7fcf7",
        "colab": {
          "base_uri": "https://localhost:8080/"
        }
      },
      "outputs": [
        {
          "output_type": "stream",
          "name": "stdout",
          "text": [
            "Sum: 165\n",
            "Average: 33.0\n"
          ]
        }
      ],
      "source": [
        "# Exercise 2, Step 4: Print the sum and the average\n",
        "# Your code here\n",
        "print(\"Sum:\",sum)\n",
        "print(\"Average:\",average)"
      ]
    },
    {
      "cell_type": "markdown",
      "metadata": {
        "id": "TzoI3jiodJZi"
      },
      "source": [
        "## Exercise 3: Fizzbuzz\n",
        "\n",
        "A list of numbers from 1 to 100 is provided below. Write a while loop that iterates through this array. For each number, do the following:\n",
        "- If the number is divisible by 15, print **fizzbuzz**.\n",
        "- If the number is divisible by 5, print **buzz**.\n",
        "- If the number is divisible by 3, print **fizz**.\n",
        "- Otherwise, print the number."
      ]
    },
    {
      "cell_type": "code",
      "execution_count": null,
      "metadata": {
        "id": "bWEn7xafdJZi"
      },
      "outputs": [],
      "source": [
        "# Exercise 3: Fizzbuzz\n",
        "numbers = [1, 2, 3, 4, 5, 6, 7, 8, 9, 10,\n",
        "           11, 12, 13, 14, 15, 16, 17, 18, 19, 20,\n",
        "           21, 22, 23, 24, 25, 26, 27, 28, 29, 30,\n",
        "           31, 32, 33, 34, 35, 36, 37, 38, 39, 40,\n",
        "           41, 42, 43, 44, 45, 46, 47, 48, 49, 50,\n",
        "           51, 52, 53, 54, 55, 56, 57, 58, 59, 60,\n",
        "           61, 62, 63, 64, 65, 66, 67, 68, 69, 70,\n",
        "           71, 72, 73, 74, 75, 76, 77, 78, 79, 80,\n",
        "           81, 82, 83, 84, 85, 86, 87, 88, 89, 90,\n",
        "           91, 92, 93, 94, 95, 96, 97, 98, 99, 100]\n",
        "\n",
        "# Your code here\n",
        "\n",
        "# Example Output:\n",
        "# 1\n",
        "# 2\n",
        "# Fizz\n",
        "# 4\n",
        "# Buzz\n",
        "# ...\n",
        "# ...\n",
        "# 14\n",
        "# FizzBuzz\n",
        "# 16\n",
        "# ...\n",
        "# etc..."
      ]
    },
    {
      "cell_type": "markdown",
      "metadata": {
        "id": "ILFTPaIYdJZj"
      },
      "source": [
        "## Exercise 4: Tax Calculation (Extra Hard)\n",
        "\n",
        "1. Create a list of 5 item prices (numbers).\n",
        "2. Set a tax rate (as a decimal, for example 0.08 for 8%).\n",
        "3. Using a while loop, iterate through the list:\n",
        "   - For each price, compute the price including tax.\n",
        "   - Accumulate the total cost including tax.\n",
        "4. Print the total cost including tax.\n",
        "5. (Optional) Calculate and print the average cost including tax."
      ]
    },
    {
      "cell_type": "code",
      "execution_count": null,
      "metadata": {
        "id": "UeAQ-qVddJZj"
      },
      "outputs": [],
      "source": [
        "# Exercise 4, Step 1: Create a list of 5 item prices\n",
        "# Your code here"
      ]
    },
    {
      "cell_type": "code",
      "execution_count": null,
      "metadata": {
        "id": "PIOA87S9dJZj"
      },
      "outputs": [],
      "source": [
        "# Exercise 4, Step 2: Set a tax rate (e.g., 0.08 for 8% tax)\n",
        "# Your code here"
      ]
    },
    {
      "cell_type": "code",
      "execution_count": null,
      "metadata": {
        "id": "JAHGIcQDdJZj"
      },
      "outputs": [],
      "source": [
        "# Exercise 4, Step 3: Use a while loop to compute the price including tax for each item and accumulate the total cost\n",
        "# Your code here"
      ]
    },
    {
      "cell_type": "code",
      "execution_count": null,
      "metadata": {
        "id": "Uoc9mbAqdJZj"
      },
      "outputs": [],
      "source": [
        "# Exercise 4, Step 4: Print the total cost including tax\n",
        "# Your code here"
      ]
    },
    {
      "cell_type": "code",
      "execution_count": null,
      "metadata": {
        "id": "u79kFYEFdJZj"
      },
      "outputs": [],
      "source": [
        "# Exercise 4, Optional Step 5: Calculate and print the average cost including tax\n",
        "# Your code here"
      ]
    },
    {
      "cell_type": "markdown",
      "metadata": {
        "id": "8vikuOE9dJZj"
      },
      "source": [
        "## Exercise 5: Sorting a List Using a While Loop (Nearly Impossible)\n",
        "\n",
        "1. Create a list of 5 numbers in random order.\n",
        "2. Implement a sort using a while loop and conditionals. Do not use any built-in sort functions.\n",
        "3. Print the sorted list in ascending order."
      ]
    },
    {
      "cell_type": "code",
      "execution_count": null,
      "metadata": {
        "id": "QsSLoe_KdJZj"
      },
      "outputs": [],
      "source": [
        "# Exercise 5, Step 1: Create a list of 5 numbers in random order\n",
        "# Your code here"
      ]
    },
    {
      "cell_type": "code",
      "execution_count": null,
      "metadata": {
        "id": "ge9tlUUAdJZj"
      },
      "outputs": [],
      "source": [
        "# Exercise 5, Step 2: Implement a sort (e.g., bubble sort) using a while loop and conditionals\n",
        "# Your code here"
      ]
    },
    {
      "cell_type": "code",
      "execution_count": null,
      "metadata": {
        "id": "xbAh4N83dJZj"
      },
      "outputs": [],
      "source": [
        "# Exercise 5, Step 3: Print the sorted list\n",
        "# Your code here"
      ]
    },
    {
      "cell_type": "markdown",
      "metadata": {
        "id": "GXMdNCX3dJZj"
      },
      "source": [
        "## Submission Guidelines\n",
        "\n",
        "- Submit your work as a single Python file (`.py`) or a Jupyter Notebook (`.ipynb`).\n",
        "- Clearly label each exercise and include comments to explain your logic.\n",
        "- Focus on completing Exercises 1–3 thoroughly. Exercises 4 and 5 are stretch challenges.\n",
        "\n",
        "Good luck, and have fun practicing your loops, list operations, and conditional logic!"
      ]
    }
  ],
  "metadata": {
    "kernelspec": {
      "display_name": "Python 3",
      "language": "python",
      "name": "python3"
    },
    "language_info": {
      "name": "python",
      "version": "3.x"
    },
    "colab": {
      "provenance": []
    }
  },
  "nbformat": 4,
  "nbformat_minor": 0
}