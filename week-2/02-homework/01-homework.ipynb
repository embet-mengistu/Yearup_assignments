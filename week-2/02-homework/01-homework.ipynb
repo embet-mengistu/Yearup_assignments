{
  "cells": [
    {
      "cell_type": "markdown",
      "metadata": {
        "id": "UxAe-MUEXVET"
      },
      "source": [
        "# Homework: Conditional Logic and Boolean Expressions"
      ]
    },
    {
      "cell_type": "markdown",
      "metadata": {
        "id": "-U_LMY9cXVEU"
      },
      "source": [
        "## **Submission Guidelines**\n",
        "* Focus on completing Exercises 1, 2 and 3. Exercises 4 and 5 are _stretch challenges_.\n",
        "* Submit your by copy and pasting each exercise into the text submission box for this assessment in brightspace* Clearly label each exercise and include comments to explain your logic.\n",
        "\n",
        "\n",
        "## Instructions"
      ]
    },
    {
      "cell_type": "markdown",
      "metadata": {
        "id": "dJXeUZEiXVEU"
      },
      "source": [
        "\n",
        "Copy this Jupyter Notebook and complete each exercise in the provided spaces.  \n",
        "\n",
        "- Clearly label each exercise and include comments explaining your logic.  \n",
        "- Focus on completing Exercises 1–3; Exercises 4 and 5 are a stretch challenge.\n",
        "- Modify the predefined variables as needed to test different cases.  \n",
        "\n",
        "**Remember to start with the English steps, write pseudocode, then write code.**"
      ]
    },
    {
      "cell_type": "markdown",
      "metadata": {
        "id": "fEs8kVR_XVEV"
      },
      "source": [
        "## **Exercise 1: Basic Conditional Statements**"
      ]
    },
    {
      "cell_type": "markdown",
      "metadata": {
        "id": "G_Q3VvJKXVEV"
      },
      "source": [
        "\n",
        "1. **Write a Conditional Statement:** A variable `temperature` is already defined.\n",
        "2. **Use an If-Else Statement:** If the temperature is greater than 80, print `\"It's hot!\"`; otherwise, print `\"It's not too hot.\"`"
      ]
    },
    {
      "cell_type": "code",
      "execution_count": 10,
      "metadata": {
        "colab": {
          "base_uri": "https://localhost:8080/"
        },
        "id": "dd9qY76fXVEV",
        "outputId": "b7a04095-2a62-49fa-8e00-629016636bb7"
      },
      "outputs": [
        {
          "output_type": "stream",
          "name": "stdout",
          "text": [
            "It's not too hot!\n"
          ]
        }
      ],
      "source": [
        "# Exercise 1\n",
        "temperature = 75  # Change this value to test different conditions\n",
        "# Your if-else statement here\n",
        "if temperature > 80:\n",
        "  print(\"It's hot!\")\n",
        "else:\n",
        "  print(\"It's not too hot!\")"
      ]
    },
    {
      "cell_type": "markdown",
      "metadata": {
        "id": "6MtwKdzXXVEV"
      },
      "source": [
        "\n",
        "## **Exercise 2: Logical Operators**"
      ]
    },
    {
      "cell_type": "markdown",
      "metadata": {
        "id": "R3ckPzaOXVEV"
      },
      "source": [
        "\n",
        "1. **Boolean Variables:** `is_raining` and `have_umbrella` are already defined.\n",
        "2. **Use Logical Operators:** Write an `if` statement that prints `\"You will stay dry\"` only if you have an umbrella or it's not raining."
      ]
    },
    {
      "cell_type": "code",
      "execution_count": 9,
      "metadata": {
        "id": "ms5tTqCqXVEW"
      },
      "outputs": [],
      "source": [
        "# Exercise 2\n",
        "is_raining = True  # Change this to test\n",
        "have_umbrella = False  # Change this to test\n",
        "# Your conditional logic here\n",
        "\n",
        "if have_umbrella or not is_raining:\n",
        "    print(\"You will stay dry\")"
      ]
    },
    {
      "cell_type": "markdown",
      "metadata": {
        "id": "zL4n1B8dXVEW"
      },
      "source": [
        "## **Exercise 3: Nested Conditions**"
      ]
    },
    {
      "cell_type": "markdown",
      "metadata": {
        "id": "w0HJQ6IUXVEW"
      },
      "source": [
        "\n",
        "A **store discount system** follows these rules:\n",
        "- If a customer is a member, they get a 10% discount.\n",
        "- If they spend over $100, they get an additional 5% discount.\n",
        "- If they are not a member, they get no discount.\n",
        "\n",
        "Write a program that calculates the discount using predefined values for `is_member` and `total_spent`."
      ]
    },
    {
      "cell_type": "code",
      "execution_count": 19,
      "metadata": {
        "colab": {
          "base_uri": "https://localhost:8080/"
        },
        "id": "5BHx6klFXVEW",
        "outputId": "04ff1934-e875-47f7-fd18-6c09f0cd6019"
      },
      "outputs": [
        {
          "output_type": "stream",
          "name": "stdout",
          "text": [
            "Price after membership 10% discount: 108.0\n",
            "Final price after additional 5% discount for total spent above 100: 102.6\n",
            "Total price to pay: 102.6\n"
          ]
        }
      ],
      "source": [
        "is_member = True  # Change this value to test\n",
        "total_spent = 120  # Change this value to test\n",
        "\n",
        "\n",
        "# Your logic here\n",
        "if is_member:\n",
        "    discount = total_spent * 10 / 100\n",
        "    price_after_discount = total_spent - discount\n",
        "    print(f\"Price after membership 10% discount: {price_after_discount}\")\n",
        "\n",
        "    if total_spent > 100:\n",
        "        additional_discount = price_after_discount * 5 / 100\n",
        "        total_price = price_after_discount - additional_discount\n",
        "        print(f\"Final price after additional 5% discount for total spent above 100: {total_price}\")\n",
        "    else:\n",
        "        total_price = price_after_discount\n",
        "else:\n",
        "    total_price = total_spent\n",
        "\n",
        "print(f\"Total price to pay: {total_price}\")\n"
      ]
    },
    {
      "cell_type": "markdown",
      "metadata": {
        "id": "7tdndUINXVEW"
      },
      "source": [
        "\n",
        "## **Exercise 4: Manual Number Comparison (Extra Hard)**"
      ]
    },
    {
      "cell_type": "markdown",
      "metadata": {
        "id": "7c9k5RUXXVEW"
      },
      "source": [
        "\n",
        "Given three numbers `a, b, c`, determine and print the **largest** and **smallest** **without using built-in functions** like `max()` or `min()`.\n",
        "\n",
        "- **Hint**: You must manually compare each number using nested `if` statements."
      ]
    },
    {
      "cell_type": "code",
      "execution_count": 38,
      "metadata": {
        "colab": {
          "base_uri": "https://localhost:8080/"
        },
        "id": "v1SxxCuFXVEW",
        "outputId": "6a27effd-db96-47fb-d1f4-dd6d38814cb8"
      },
      "outputs": [
        {
          "output_type": "stream",
          "name": "stdout",
          "text": [
            "Smallest is 15 and Largest is 100\n"
          ]
        }
      ],
      "source": [
        "# Exercise 5\n",
        "a = 100\n",
        "b = 20\n",
        "c = 15\n",
        "\n",
        "numbers_array=[a,b,c]\n",
        "\n",
        "def sort_array(arr):\n",
        "    n = len(arr)\n",
        "    for i in range(n):\n",
        "        for j in range(n - 1):\n",
        "            if arr[j] > arr[j + 1]:\n",
        "                arr[j], arr[j + 1] = arr[j + 1], arr[j]\n",
        "    return arr\n",
        "\n",
        "sorted=sort_array(numbers_array)\n",
        "\n",
        "print(f'Smallest is {sorted[0]} and Largest is {sorted[-1]}')\n",
        "\n",
        "\n",
        "\n"
      ]
    },
    {
      "cell_type": "markdown",
      "metadata": {
        "id": "eZgiula-XVEW"
      },
      "source": [
        "## **Exercise 5: Nested Logical Puzzle (Nearly Impossible)**"
      ]
    },
    {
      "cell_type": "markdown",
      "metadata": {
        "id": "jIgJdqQUXVEW"
      },
      "source": [
        "\n",
        "You're given four integer variables: `a`, `b`, `c`, and `d`. Write a program to determine and print:\n",
        "\n",
        "1. **The second largest** number among the four variables **without using any built-in functions or sorting**.\n",
        "2. Additionally, identify if the second largest number is **even or odd** and print the result accordingly.\n",
        "\n",
        "You must solve this **only using nested conditional statements and logical operators**.\n",
        "\n",
        "**Example Output:**  \n",
        "```\n",
        "The second largest number is 42\n",
        "The second largest number is even.\n",
        "```\n",
        "\n",
        "This challenge demands careful consideration of multiple comparisons and conditions.\n"
      ]
    },
    {
      "cell_type": "code",
      "execution_count": 45,
      "metadata": {
        "colab": {
          "base_uri": "https://localhost:8080/"
        },
        "id": "IAQhNrC6XVEW",
        "outputId": "d8305b0e-0670-4e58-c6b8-ee0ded0b2371"
      },
      "outputs": [
        {
          "output_type": "stream",
          "name": "stdout",
          "text": [
            "The second largest number is odd\n",
            "The second largest number is 27\n"
          ]
        }
      ],
      "source": [
        "# Exercise 5\n",
        "a = 27  # Change this to test\n",
        "b = 22  # Change this to test\n",
        "c = 37  # Change this to test\n",
        "d = 42  # Change this to test\n",
        "numbers_array=[a,b,c,d]\n",
        "\n",
        "def sort_array(arr):\n",
        "    n = len(arr)\n",
        "    for i in range(n):\n",
        "        for j in range(n - 1):\n",
        "            if arr[j] > arr[j + 1]:\n",
        "                arr[j], arr[j + 1] = arr[j + 1], arr[j]\n",
        "    return arr\n",
        "\n",
        "sorted=sort_array(numbers_array)\n",
        "\n",
        "if(sorted[1]%2 == 0):\n",
        " print(f\"The second largest number is even\" )\n",
        "else:\n",
        " print(f\"The second largest number is odd\" )\n",
        "\n",
        "# Your logic here\n",
        "print(f\"The second largest number is {sorted[1]}\" )"
      ]
    },
    {
      "cell_type": "markdown",
      "metadata": {
        "id": "MdGyRrlTXVEW"
      },
      "source": [
        "\n",
        "\n",
        "## **Submission Guidelines**"
      ]
    },
    {
      "cell_type": "markdown",
      "metadata": {
        "id": "F4oTIAhcXVEW"
      },
      "source": [
        "\n",
        "- Submit your work as a single Python file (`.py`) or a Jupyter Notebook (`.ipynb`).\n",
        "- Clearly label each exercise and include comments to explain your logic.\n",
        "- Focus on completing Exercises 1–3; Exercises 4 and 5 are a stretch challenge.\n"
      ]
    }
  ],
  "metadata": {
    "kernelspec": {
      "display_name": "Python 3",
      "language": "python",
      "name": "python3"
    },
    "language_info": {
      "codemirror_mode": {
        "name": "ipython",
        "version": 3
      },
      "file_extension": ".py",
      "mimetype": "text/x-python",
      "name": "python",
      "nbconvert_exporter": "python",
      "pygments_lexer": "ipython3",
      "version": "3.12.2"
    },
    "colab": {
      "provenance": []
    }
  },
  "nbformat": 4,
  "nbformat_minor": 0
}