{
  "cells": [
    {
      "cell_type": "markdown",
      "metadata": {
        "id": "xB2tOMS19rqz"
      },
      "source": [
        "# Homework: Advanced Conditional Logic"
      ]
    },
    {
      "cell_type": "markdown",
      "metadata": {
        "id": "6u3onBeW9rq0"
      },
      "source": [
        "## **Submission Guidelines**"
      ]
    },
    {
      "cell_type": "markdown",
      "metadata": {
        "id": "18-OlLZq9rq0"
      },
      "source": [
        "* Focus on completing Exercises 1–4; Exercise 5 is a stretch challenge.\n",
        "* Submit your by copy and pasting each exercise into the text submission box for this assessment in brightspace\n",
        "* Clearly label each exercise and include comments to explain your logic."
      ]
    },
    {
      "cell_type": "code",
      "execution_count": null,
      "metadata": {
        "id": "2BEP6zTP9rq0"
      },
      "outputs": [],
      "source": []
    },
    {
      "cell_type": "markdown",
      "metadata": {
        "id": "dAWeBlNK9rq1"
      },
      "source": [
        "\n",
        "\n",
        "## Instructions"
      ]
    },
    {
      "cell_type": "markdown",
      "metadata": {
        "id": "fVQBoMN19rq1"
      },
      "source": [
        "\n",
        "Copy this Jupyter Notebook and complete each exercise in the provided spaces.  \n",
        "\n",
        "- Clearly label each exercise and include comments explaining your logic.  \n",
        "- Focus on completing Exercises 1–4; Exercise 5 is a stretch challenge.\n",
        "- Modify the predefined variables as needed to test different cases.  \n",
        "\n",
        "**Remember to start with the English steps, write pseudocode, then write code.**"
      ]
    },
    {
      "cell_type": "markdown",
      "metadata": {
        "id": "a-4tGgeN9rq1"
      },
      "source": [
        "## **Exercise 1: Multi-Condition Decisions**"
      ]
    },
    {
      "cell_type": "markdown",
      "metadata": {
        "id": "9Ynrrr0b9rq1"
      },
      "source": [
        "\n",
        "A **movie rating system** follows these rules:\n",
        "   - If `age` is **less than 13**, print `\"PG movies only\"`.\n",
        "   - If `age` is **between 13 and 17**, print `\"PG-13 movies allowed\"`.\n",
        "   - Otherwise, print `\"All movies allowed\"`."
      ]
    },
    {
      "cell_type": "code",
      "execution_count": 1,
      "metadata": {
        "colab": {
          "base_uri": "https://localhost:8080/"
        },
        "id": "5OvZQjDR9rq1",
        "outputId": "b39f7fe5-5ed4-4773-c545-bbd13ef0f607"
      },
      "outputs": [
        {
          "output_type": "stream",
          "name": "stdout",
          "text": [
            "PG-13 movies allowed\n"
          ]
        }
      ],
      "source": [
        "# Exercise 1\n",
        "age = 15  # Change this value to test\n",
        "# Your logic here\n",
        "\n",
        "if age < 13:\n",
        "    print(\"PG movies only\")\n",
        "elif 13 <= age <= 17:\n",
        "    print(\"PG-13 movies allowed\")\n",
        "else:\n",
        "    print(\"All movies allowed\")\n"
      ]
    },
    {
      "cell_type": "markdown",
      "metadata": {
        "id": "9SoyNLrC9rq1"
      },
      "source": [
        "## **Exercise 2: Decision Tree for Discounts**"
      ]
    },
    {
      "cell_type": "markdown",
      "metadata": {
        "id": "AMYcM6PT9rq1"
      },
      "source": [
        "\n",
        "A **discount system** follows these rules:\n",
        "- If `is_student` is `True`, apply a 20% discount.\n",
        "- If `age` is **65 or older**, apply a 15% discount.\n",
        "- If both conditions are met, apply the higher discount only."
      ]
    },
    {
      "cell_type": "code",
      "execution_count": 3,
      "metadata": {
        "colab": {
          "base_uri": "https://localhost:8080/"
        },
        "id": "LFmPYIqL9rq2",
        "outputId": "3fafd588-05ea-419d-86ee-7779cbef0a38"
      },
      "outputs": [
        {
          "output_type": "stream",
          "name": "stdout",
          "text": [
            "No discount\n"
          ]
        }
      ],
      "source": [
        "# Exercise 2\n",
        "is_student = False  # Change this value to test\n",
        "age = 70  # Change this value to test\n",
        "\n",
        "# Your logic here\n",
        "\n",
        "if is_student and age >= 65:\n",
        "    print(\"20% discount applied\")\n",
        "elif is_student:\n",
        "    print(\"20% discount applied\")\n",
        "elif age >= 65:\n",
        "    print(\"15% discount applied\")\n",
        "else:\n",
        "    print(\"No discount\")"
      ]
    },
    {
      "cell_type": "markdown",
      "metadata": {
        "id": "9XdvBwXa9rq2"
      },
      "source": [
        "\n",
        "## **Exercise 3: Loan Approval System**"
      ]
    },
    {
      "cell_type": "markdown",
      "metadata": {
        "id": "n3fn5LUT9rq2"
      },
      "source": [
        "\n",
        "A **loan approval system** follows these rules:\n",
        "- Applicant **must be at least 18**.\n",
        "- Loan is **approved** if `income` is over **40k** OR `credit_score` is above **700**.\n",
        "- If the applicant has `has_debt = True`, then **both** conditions are required."
      ]
    },
    {
      "cell_type": "code",
      "execution_count": 6,
      "metadata": {
        "colab": {
          "base_uri": "https://localhost:8080/"
        },
        "id": "2IqwjG5E9rq2",
        "outputId": "cec95333-b9b3-4f6b-ee60-125b06e94b0f"
      },
      "outputs": [
        {
          "output_type": "stream",
          "name": "stdout",
          "text": [
            "Loan Approved\n"
          ]
        }
      ],
      "source": [
        "# Exercise 3\n",
        "age = 20  # Change this value to test\n",
        "income = 45000  # Change this value to test\n",
        "credit_score = 610  # Change this value to test\n",
        "has_debt = False  # Change this value to test\n",
        "\n",
        "# Your logic here\n",
        "\n",
        "if age >= 18:\n",
        "    if has_debt:\n",
        "        if income > 40000 and credit_score > 700:\n",
        "            print(\"Loan Approved\")\n",
        "        else:\n",
        "            print(\"Loan Denied\")\n",
        "    else:\n",
        "        if income > 40000 or credit_score > 700:\n",
        "            print(\"Loan Approved\")\n",
        "        else:\n",
        "            print(\"Loan Denied\")\n",
        "else:\n",
        "    print(\"Loan Denied\")"
      ]
    },
    {
      "cell_type": "markdown",
      "metadata": {
        "id": "idA_T2ft9rq2"
      },
      "source": [
        "## **Exercise 4: Complex Weather Decision System**"
      ]
    },
    {
      "cell_type": "markdown",
      "metadata": {
        "id": "LZdpFSBw9rq2"
      },
      "source": [
        "\n",
        "A **weather advisory system** follows these rules:\n",
        "- If `temperature` is **below 32°F**, print `\"Freezing warning\"`.\n",
        "- If `temperature` is **between 32°F and 50°F**, print `\"Cold weather\"`.\n",
        "- If `temperature` is **above 50°F** and `humidity` is **above 70%**, print `\"Warm but humid\"`.\n",
        "- Otherwise, print `\"Mild weather\"`.\n"
      ]
    },
    {
      "cell_type": "code",
      "execution_count": 7,
      "metadata": {
        "colab": {
          "base_uri": "https://localhost:8080/"
        },
        "id": "iSaf0q1I9rq2",
        "outputId": "545aac63-d982-49b5-9524-71e72eff1983"
      },
      "outputs": [
        {
          "output_type": "stream",
          "name": "stdout",
          "text": [
            "Warm but humid\n"
          ]
        }
      ],
      "source": [
        "# Exercise 4\n",
        "temperature = 55  # Change this value to test\n",
        "humidity = 80  # Change this value to test\n",
        "# Your logic here\n",
        "\n",
        "if temperature < 32:\n",
        "    print(\"Freezing warning\")\n",
        "elif 32 <= temperature <= 50:\n",
        "    print(\"Cold weather\")\n",
        "elif temperature > 50 and humidity > 70:\n",
        "    print(\"Warm but humid\")\n",
        "else:\n",
        "    print(\"Mild weather\")"
      ]
    },
    {
      "cell_type": "markdown",
      "metadata": {
        "id": "PM5EjqWR9rq2"
      },
      "source": [
        "## **Exercise 5: Advanced Multi-Step Bank Security System (Extra Hard)**"
      ]
    },
    {
      "cell_type": "markdown",
      "metadata": {
        "id": "UeuI4cVf9rq2"
      },
      "source": [
        "\n",
        "Design a **bank security system** that follows these rules:\n",
        "- If `is_employee = True`, grant full access.\n",
        "- If `is_manager = True`, grant access to sensitive files.\n",
        "- If `is_customer = True` and `account_balance > 1000`, allow transactions.\n",
        "- If none of the conditions apply, print `\"Access Denied\"`.\n",
        "- **Extended Rule:** If `security_alert = True`, deny all access regardless of other conditions."
      ]
    },
    {
      "cell_type": "code",
      "execution_count": 8,
      "metadata": {
        "colab": {
          "base_uri": "https://localhost:8080/"
        },
        "id": "sI5f9Eny9rq2",
        "outputId": "eaac3257-938b-4cd6-ae37-a44583b44190"
      },
      "outputs": [
        {
          "output_type": "stream",
          "name": "stdout",
          "text": [
            "Transactions allowed\n"
          ]
        }
      ],
      "source": [
        "# Exercise 5\n",
        "is_employee = False  # Change this value to test\n",
        "is_manager = False  # Change this value to test\n",
        "is_customer = True  # Change this value to test\n",
        "account_balance = 5000  # Change this value to test\n",
        "security_alert = False  # Change this value to test\n",
        "# Your logic here\n",
        "\n",
        "if security_alert:\n",
        "    print(\"Access Denied\")\n",
        "elif is_employee:\n",
        "    print(\"Full access granted\")\n",
        "elif is_manager:\n",
        "    print(\"Access to sensitive files granted\")\n",
        "elif is_customer and account_balance > 1000:\n",
        "    print(\"Transactions allowed\")\n",
        "else:\n",
        "    print(\"Access Denied\")"
      ]
    },
    {
      "cell_type": "markdown",
      "metadata": {
        "id": "xHzhT_fa9rq2"
      },
      "source": [
        "## **Submission Guidelines**"
      ]
    },
    {
      "cell_type": "markdown",
      "metadata": {
        "id": "F0JMTboD9rq2"
      },
      "source": [
        "\n",
        "- Submit your work as a `.py` or `.ipynb` file.\n",
        "- Clearly label each exercise and include comments.\n",
        "- Focus on completing Exercises 1–4; Exercise 5 is a stretch challenge.\n",
        "- Have fun practicing your advanced conditionals!"
      ]
    }
  ],
  "metadata": {
    "language_info": {
      "name": "python"
    },
    "colab": {
      "provenance": []
    },
    "kernelspec": {
      "name": "python3",
      "display_name": "Python 3"
    }
  },
  "nbformat": 4,
  "nbformat_minor": 0
}